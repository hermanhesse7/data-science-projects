{
  "nbformat": 4,
  "nbformat_minor": 0,
  "metadata": {
    "colab": {
      "provenance": [],
      "mount_file_id": "1TqyoZJ3HWO4DcD18GjY6YCqEPxMW7SF5",
      "authorship_tag": "ABX9TyOocPEQiJkmfrFyWjVV3I5G",
      "include_colab_link": true
    },
    "kernelspec": {
      "name": "python3",
      "display_name": "Python 3"
    },
    "language_info": {
      "name": "python"
    }
  },
  "cells": [
    {
      "cell_type": "markdown",
      "metadata": {
        "id": "view-in-github",
        "colab_type": "text"
      },
      "source": [
        "<a href=\"https://colab.research.google.com/github/hermanhesse7/data-science-projects/blob/main/Renting_Price.ipynb\" target=\"_parent\"><img src=\"https://colab.research.google.com/assets/colab-badge.svg\" alt=\"Open In Colab\"/></a>"
      ]
    },
    {
      "cell_type": "markdown",
      "source": [
        "<h2 align=right style=\"line-height:200%;font-family:vazir;color:#0099cc\">\n",
        "<font face=\"vazir\" color=\"#0099cc\">\n",
        "مقدمه و صورت مسئله\n",
        "</font>\n",
        "</h2>\n",
        "\n",
        "<p dir=rtl style=\"direction: rtl;text-align: justify;line-height:200%;font-family:vazir;font-size:medium\">\n",
        "<font face=\"vazir\" size=3>\n",
        "در سوال مجموعه‌داده‌ای از اقامتگاه‌های سایت جاجیگا در اخیار شما قرار داده شده است. هدف پیش‌بینی قیمت یک اقامتگاه با توجه به ویژگی‌ها و اطلاعات آن است.\n",
        "    \n",
        "</font>\n",
        "</p>"
      ],
      "metadata": {
        "id": "K4J2qAzsgBzG"
      }
    },
    {
      "cell_type": "code",
      "source": [
        "%pip install catboost"
      ],
      "metadata": {
        "colab": {
          "base_uri": "https://localhost:8080/"
        },
        "id": "r1ifwR_OLWyZ",
        "outputId": "cda36103-3c0d-4e65-ed64-abd321bd7a07"
      },
      "execution_count": 542,
      "outputs": [
        {
          "output_type": "stream",
          "name": "stdout",
          "text": [
            "Requirement already satisfied: catboost in /usr/local/lib/python3.11/dist-packages (1.2.8)\n",
            "Requirement already satisfied: graphviz in /usr/local/lib/python3.11/dist-packages (from catboost) (0.20.3)\n",
            "Requirement already satisfied: matplotlib in /usr/local/lib/python3.11/dist-packages (from catboost) (3.10.0)\n",
            "Requirement already satisfied: numpy<3.0,>=1.16.0 in /usr/local/lib/python3.11/dist-packages (from catboost) (2.0.2)\n",
            "Requirement already satisfied: pandas>=0.24 in /usr/local/lib/python3.11/dist-packages (from catboost) (2.2.2)\n",
            "Requirement already satisfied: scipy in /usr/local/lib/python3.11/dist-packages (from catboost) (1.14.1)\n",
            "Requirement already satisfied: plotly in /usr/local/lib/python3.11/dist-packages (from catboost) (5.24.1)\n",
            "Requirement already satisfied: six in /usr/local/lib/python3.11/dist-packages (from catboost) (1.17.0)\n",
            "Requirement already satisfied: python-dateutil>=2.8.2 in /usr/local/lib/python3.11/dist-packages (from pandas>=0.24->catboost) (2.8.2)\n",
            "Requirement already satisfied: pytz>=2020.1 in /usr/local/lib/python3.11/dist-packages (from pandas>=0.24->catboost) (2025.2)\n",
            "Requirement already satisfied: tzdata>=2022.7 in /usr/local/lib/python3.11/dist-packages (from pandas>=0.24->catboost) (2025.2)\n",
            "Requirement already satisfied: contourpy>=1.0.1 in /usr/local/lib/python3.11/dist-packages (from matplotlib->catboost) (1.3.1)\n",
            "Requirement already satisfied: cycler>=0.10 in /usr/local/lib/python3.11/dist-packages (from matplotlib->catboost) (0.12.1)\n",
            "Requirement already satisfied: fonttools>=4.22.0 in /usr/local/lib/python3.11/dist-packages (from matplotlib->catboost) (4.57.0)\n",
            "Requirement already satisfied: kiwisolver>=1.3.1 in /usr/local/lib/python3.11/dist-packages (from matplotlib->catboost) (1.4.8)\n",
            "Requirement already satisfied: packaging>=20.0 in /usr/local/lib/python3.11/dist-packages (from matplotlib->catboost) (24.2)\n",
            "Requirement already satisfied: pillow>=8 in /usr/local/lib/python3.11/dist-packages (from matplotlib->catboost) (11.1.0)\n",
            "Requirement already satisfied: pyparsing>=2.3.1 in /usr/local/lib/python3.11/dist-packages (from matplotlib->catboost) (3.2.3)\n",
            "Requirement already satisfied: tenacity>=6.2.0 in /usr/local/lib/python3.11/dist-packages (from plotly->catboost) (9.1.2)\n"
          ]
        }
      ]
    },
    {
      "cell_type": "code",
      "source": [
        "import json\n",
        "import numpy as np\n",
        "import pandas as pd\n",
        "import matplotlib.pyplot as plt\n",
        "import seaborn as sns\n",
        "import ast\n",
        "from sklearn.metrics import accuracy_score\n",
        "from sklearn.preprocessing import StandardScaler, RobustScaler, MinMaxScaler\n",
        "from sklearn.preprocessing import OrdinalEncoder\n",
        "\n",
        "# train the linear model\n",
        "from sklearn.ensemble import StackingRegressor\n",
        "from sklearn.metrics import r2_score, make_scorer\n",
        "from catboost import CatBoostRegressor\n",
        "from sklearn.linear_model import LinearRegression, Ridge, Lasso, ElasticNet\n",
        "from sklearn.neighbors import KNeighborsRegressor\n",
        "from sklearn.svm import SVR\n",
        "from sklearn.ensemble import RandomForestRegressor, ExtraTreesRegressor, GradientBoostingRegressor, AdaBoostRegressor\n",
        "from xgboost import XGBRegressor\n",
        "import lightgbm as lgb\n",
        "import xgboost as xgb\n",
        "from sklearn.model_selection import train_test_split, GridSearchCV\n",
        "from sklearn.model_selection import cross_val_score, KFold"
      ],
      "metadata": {
        "id": "TzVjKkjmf4LR"
      },
      "execution_count": 543,
      "outputs": []
    },
    {
      "cell_type": "code",
      "source": [
        "train_data = pd.read_csv(\"/content/drive/MyDrive/train.csv\")\n",
        "test_data = pd.read_csv(\"/content/drive/MyDrive/test.csv\")"
      ],
      "metadata": {
        "id": "bnngKcwUgHVJ"
      },
      "execution_count": 544,
      "outputs": []
    },
    {
      "cell_type": "markdown",
      "source": [
        "<h2 align=right style=\"line-height:200%;font-family:vazir;color:#0099cc\">\n",
        "<font face=\"vazir\" color=\"#0099cc\">\n",
        "پیش‌پردازش و مهندسی ویژگی\n",
        "</font>\n",
        "</h2>\n",
        "\n",
        "<p dir=rtl style=\"direction: rtl; text-align: justify; line-height:200%; font-family:vazir; font-size:medium\">\n",
        "<font face=\"vazir\" size=3>\n",
        "    در این سوال شما می‌توانید از هر تکنیک پیش‌پردازش یا مهندسی ویژگی، استفاده کنید.\n",
        "    <br>\n",
        "    تکنیک‌هایی که استفاده می‌کنید به شکل مستقیم مورد ارزیابی توسط سامانه داوری قرار <b>نمی‌گیرند.</b> بلکه همه آن‌ها در دقت مدل شما تاثیر خواهند گذاشت.\n",
        "</font>\n",
        "</p>"
      ],
      "metadata": {
        "id": "3wYbyxTGgOKY"
      }
    },
    {
      "cell_type": "code",
      "source": [
        "train_data.info()"
      ],
      "metadata": {
        "colab": {
          "base_uri": "https://localhost:8080/"
        },
        "id": "3PXyhOAPgHSe",
        "outputId": "9c65588f-4eab-48c4-8f6b-72faeac3cb97"
      },
      "execution_count": 545,
      "outputs": [
        {
          "output_type": "stream",
          "name": "stdout",
          "text": [
            "<class 'pandas.core.frame.DataFrame'>\n",
            "RangeIndex: 4776 entries, 0 to 4775\n",
            "Data columns (total 47 columns):\n",
            " #   Column               Non-Null Count  Dtype  \n",
            "---  ------               --------------  -----  \n",
            " 0   Unnamed: 0           4776 non-null   int64  \n",
            " 1   id                   4776 non-null   int64  \n",
            " 2   status               4776 non-null   object \n",
            " 3   title                4776 non-null   object \n",
            " 4   description          4776 non-null   object \n",
            " 5   allocation           4776 non-null   object \n",
            " 6   types                4776 non-null   object \n",
            " 7   regions              4776 non-null   object \n",
            " 8   floor_area           4776 non-null   int64  \n",
            " 9   land_area            4776 non-null   int64  \n",
            " 10  floors_count         4776 non-null   int64  \n",
            " 11  bedrooms             4776 non-null   int64  \n",
            " 12  sleep_arrange        4776 non-null   object \n",
            " 13  sleep_description    1686 non-null   object \n",
            " 14  guest_number         4776 non-null   int64  \n",
            " 15  max_guest_number     4776 non-null   int64  \n",
            " 16  stays_min            4776 non-null   int64  \n",
            " 17  stays_max            103 non-null    float64\n",
            " 18  entrance_time_min    4776 non-null   int64  \n",
            " 19  entrance_time_max    4776 non-null   int64  \n",
            " 20  leaving_time         4776 non-null   int64  \n",
            " 21  features             4776 non-null   object \n",
            " 22  additional_feature   902 non-null    object \n",
            " 23  additional_safety    25 non-null     object \n",
            " 24  rules                4776 non-null   object \n",
            " 25  additional_rule      2693 non-null   object \n",
            " 26  min_price            4776 non-null   int64  \n",
            " 27  is_clean             4776 non-null   bool   \n",
            " 28  is_new               4776 non-null   bool   \n",
            " 29  is_instant           4776 non-null   bool   \n",
            " 30  is_plus              4776 non-null   bool   \n",
            " 31  geo.lat              4776 non-null   float64\n",
            " 32  geo.lng              4776 non-null   float64\n",
            " 33  province.id          4776 non-null   object \n",
            " 34  province.name        4776 non-null   object \n",
            " 35  province.url         4776 non-null   object \n",
            " 36  city.id              4776 non-null   int64  \n",
            " 37  city.name            4776 non-null   object \n",
            " 38  city.url             4776 non-null   object \n",
            " 39  ratings.count        4776 non-null   int64  \n",
            " 40  ratings.total        4776 non-null   float64\n",
            " 41  ratings.cleanliness  4776 non-null   float64\n",
            " 42  ratings.location     4776 non-null   float64\n",
            " 43  ratings.checkin      4776 non-null   float64\n",
            " 44  ratings.value        4776 non-null   float64\n",
            " 45  units_count          4776 non-null   int64  \n",
            " 46  success_books        4776 non-null   int64  \n",
            "dtypes: bool(4), float64(8), int64(17), object(18)\n",
            "memory usage: 1.6+ MB\n"
          ]
        }
      ]
    },
    {
      "cell_type": "code",
      "source": [
        "train_data['has_barbecue'] = train_data['features'].str.contains(\"barbecue\", case=False).astype(int)"
      ],
      "metadata": {
        "id": "6oCTOEopYjO5"
      },
      "execution_count": 546,
      "outputs": []
    },
    {
      "cell_type": "code",
      "source": [
        "def categorize_guests(n):\n",
        "    if n <= 1:\n",
        "        return 'solo'\n",
        "    elif n == 2:\n",
        "        return 'couple'\n",
        "    elif 3 <= n <= 4:\n",
        "        return 'small_group'\n",
        "    elif 5 <= n <= 7:\n",
        "        return 'medium_group'\n",
        "    else:\n",
        "        return 'large_group'\n",
        "\n",
        "train_data['guest_category'] = train_data['guest_number'].apply(categorize_guests)\n"
      ],
      "metadata": {
        "id": "z77baADgUUQ7"
      },
      "execution_count": 547,
      "outputs": []
    },
    {
      "cell_type": "code",
      "source": [
        "plt.figure(figsize=(10, 4))\n",
        "sns.histplot(train_data['floor_area'], bins=30, kde=True)\n",
        "plt.title(\"Floor Area Distribution\")\n",
        "plt.xlabel(\"Floor Area (m²)\")\n",
        "plt.ylabel(\"Count\")\n",
        "plt.grid(True)\n",
        "plt.show()"
      ],
      "metadata": {
        "colab": {
          "base_uri": "https://localhost:8080/",
          "height": 410
        },
        "id": "KfbW_Q_oUpkp",
        "outputId": "4001b1c1-d322-42fa-fd13-9b8760684dab"
      },
      "execution_count": 548,
      "outputs": [
        {
          "output_type": "display_data",
          "data": {
            "text/plain": [
              "<Figure size 1000x400 with 1 Axes>"
            ],
            "image/png": "[encoded data removed]"
          },
          "metadata": {}
        }
      ]
    },
    {
      "cell_type": "code",
      "source": [
        "def categorize_floor_area(area):\n",
        "    if area < 30:\n",
        "        return 'compact'\n",
        "    elif 30 <= area < 60:\n",
        "        return 'small'\n",
        "    elif 60 <= area < 100:\n",
        "        return 'medium'\n",
        "    elif 100 <= area < 150:\n",
        "        return 'large'\n",
        "    else:\n",
        "        return 'very_large'\n",
        "\n",
        "train_data['floor_area_category'] = train_data['floor_area'].apply(categorize_floor_area)\n"
      ],
      "metadata": {
        "id": "uvJ864dzVSwG"
      },
      "execution_count": 549,
      "outputs": []
    },
    {
      "cell_type": "code",
      "source": [
        "train_data.drop(['success_books','land_area',\"floors_count\" ,\"units_count\",\"leaving_time\",\"entrance_time_max\",\"entrance_time_min\" ,\"stays_min\",\"title\",\"status\" ,\"features\",\"province.id\",\"province.url\",\"city.id\", \"sleep_arrange\",\"floors_count\",\"Unnamed: 0\", \"id\", \"description\", \"sleep_description\", \"stays_max\", \"additional_feature\", \"additional_safety\", \"additional_rule\", \"city.url\"], axis=1, inplace=True)"
      ],
      "metadata": {
        "id": "GMg-uxnO7QBs"
      },
      "execution_count": 550,
      "outputs": []
    },
    {
      "cell_type": "code",
      "source": [
        "train_data.head(2)"
      ],
      "metadata": {
        "colab": {
          "base_uri": "https://localhost:8080/",
          "height": 196
        },
        "outputId": "5dec092c-0340-4e22-e02b-80801ba96070",
        "id": "JhE7b6b67QBs"
      },
      "execution_count": 551,
      "outputs": [
        {
          "output_type": "execute_result",
          "data": {
            "text/plain": [
              "     allocation               types                regions  floor_area  \\\n",
              "0  entire_place  ['suite', 'villa']              ['rural']          60   \n",
              "1  entire_place           ['villa']  ['mountain', 'rural']          80   \n",
              "\n",
              "   bedrooms  guest_number  max_guest_number             rules  min_price  \\\n",
              "0         1             2                 3           ['pet']    1500000   \n",
              "1         2             5                10  ['pet', 'smoke']    1600000   \n",
              "\n",
              "   is_clean  ...  city.name  ratings.count  ratings.total  \\\n",
              "0     False  ...      رامسر             16            4.2   \n",
              "1     False  ...      رامسر             18            4.5   \n",
              "\n",
              "   ratings.cleanliness  ratings.location ratings.checkin ratings.value  \\\n",
              "0                  3.6               4.8             4.4           3.9   \n",
              "1                  4.1               4.4             4.9           3.9   \n",
              "\n",
              "   has_barbecue  guest_category  floor_area_category  \n",
              "0             1          couple               medium  \n",
              "1             1    medium_group               medium  \n",
              "\n",
              "[2 rows x 26 columns]"
            ],
            "text/html": [
              "\n",
              "  <div id=\"df-5911c892-6670-47f7-8a70-a68b225aaf83\" class=\"colab-df-container\">\n",
              "    <div>\n",
              "<style scoped>\n",
              "    .dataframe tbody tr th:only-of-type {\n",
              "        vertical-align: middle;\n",
              "    }\n",
              "\n",
              "    .dataframe tbody tr th {\n",
              "        vertical-align: top;\n",
              "    }\n",
              "\n",
              "    .dataframe thead th {\n",
              "        text-align: right;\n",
              "    }\n",
              "</style>\n",
              "<table border=\"1\" class=\"dataframe\">\n",
              "  <thead>\n",
              "    <tr style=\"text-align: right;\">\n",
              "      <th></th>\n",
              "      <th>allocation</th>\n",
              "      <th>types</th>\n",
              "      <th>regions</th>\n",
              "      <th>floor_area</th>\n",
              "      <th>bedrooms</th>\n",
              "      <th>guest_number</th>\n",
              "      <th>max_guest_number</th>\n",
              "      <th>rules</th>\n",
              "      <th>min_price</th>\n",
              "      <th>is_clean</th>\n",
              "      <th>...</th>\n",
              "      <th>city.name</th>\n",
              "      <th>ratings.count</th>\n",
              "      <th>ratings.total</th>\n",
              "      <th>ratings.cleanliness</th>\n",
              "      <th>ratings.location</th>\n",
              "      <th>ratings.checkin</th>\n",
              "      <th>ratings.value</th>\n",
              "      <th>has_barbecue</th>\n",
              "      <th>guest_category</th>\n",
              "      <th>floor_area_category</th>\n",
              "    </tr>\n",
              "  </thead>\n",
              "  <tbody>\n",
              "    <tr>\n",
              "      <th>0</th>\n",
              "      <td>entire_place</td>\n",
              "      <td>['suite', 'villa']</td>\n",
              "      <td>['rural']</td>\n",
              "      <td>60</td>\n",
              "      <td>1</td>\n",
              "      <td>2</td>\n",
              "      <td>3</td>\n",
              "      <td>['pet']</td>\n",
              "      <td>1500000</td>\n",
              "      <td>False</td>\n",
              "      <td>...</td>\n",
              "      <td>رامسر</td>\n",
              "      <td>16</td>\n",
              "      <td>4.2</td>\n",
              "      <td>3.6</td>\n",
              "      <td>4.8</td>\n",
              "      <td>4.4</td>\n",
              "      <td>3.9</td>\n",
              "      <td>1</td>\n",
              "      <td>couple</td>\n",
              "      <td>medium</td>\n",
              "    </tr>\n",
              "    <tr>\n",
              "      <th>1</th>\n",
              "      <td>entire_place</td>\n",
              "      <td>['villa']</td>\n",
              "      <td>['mountain', 'rural']</td>\n",
              "      <td>80</td>\n",
              "      <td>2</td>\n",
              "      <td>5</td>\n",
              "      <td>10</td>\n",
              "      <td>['pet', 'smoke']</td>\n",
              "      <td>1600000</td>\n",
              "      <td>False</td>\n",
              "      <td>...</td>\n",
              "      <td>رامسر</td>\n",
              "      <td>18</td>\n",
              "      <td>4.5</td>\n",
              "      <td>4.1</td>\n",
              "      <td>4.4</td>\n",
              "      <td>4.9</td>\n",
              "      <td>3.9</td>\n",
              "      <td>1</td>\n",
              "      <td>medium_group</td>\n",
              "      <td>medium</td>\n",
              "    </tr>\n",
              "  </tbody>\n",
              "</table>\n",
              "<p>2 rows × 26 columns</p>\n",
              "</div>\n",
              "    <div class=\"colab-df-buttons\">\n",
              "\n",
              "  <div class=\"colab-df-container\">\n",
              "    <button class=\"colab-df-convert\" onclick=\"convertToInteractive('df-5911c892-6670-47f7-8a70-a68b225aaf83')\"\n",
              "            title=\"Convert this dataframe to an interactive table.\"\n",
              "            style=\"display:none;\">\n",
              "\n",
              "  <svg xmlns=\"http://www.w3.org/2000/svg\" height=\"24px\" viewBox=\"0 -960 960 960\">\n",
              "    <path d=\"M120-120v-720h720v720H120Zm60-500h600v-160H180v160Zm220 220h160v-160H400v160Zm0 220h160v-160H400v160ZM180-400h160v-160H180v160Zm440 0h160v-160H620v160ZM180-180h160v-160H180v160Zm440 0h160v-160H620v160Z\"/>\n",
              "  </svg>\n",
              "    </button>\n",
              "\n",
              "  <style>\n",
              "    .colab-df-container {\n",
              "      display:flex;\n",
              "      gap: 12px;\n",
              "    }\n",
              "\n",
              "    .colab-df-convert {\n",
              "      background-color: #E8F0FE;\n",
              "      border: none;\n",
              "      border-radius: 50%;\n",
              "      cursor: pointer;\n",
              "      display: none;\n",
              "      fill: #1967D2;\n",
              "      height: 32px;\n",
              "      padding: 0 0 0 0;\n",
              "      width: 32px;\n",
              "    }\n",
              "\n",
              "    .colab-df-convert:hover {\n",
              "      background-color: #E2EBFA;\n",
              "      box-shadow: 0px 1px 2px rgba(60, 64, 67, 0.3), 0px 1px 3px 1px rgba(60, 64, 67, 0.15);\n",
              "      fill: #174EA6;\n",
              "    }\n",
              "\n",
              "    .colab-df-buttons div {\n",
              "      margin-bottom: 4px;\n",
              "    }\n",
              "\n",
              "    [theme=dark] .colab-df-convert {\n",
              "      background-color: #3B4455;\n",
              "      fill: #D2E3FC;\n",
              "    }\n",
              "\n",
              "    [theme=dark] .colab-df-convert:hover {\n",
              "      background-color: #434B5C;\n",
              "      box-shadow: 0px 1px 3px 1px rgba(0, 0, 0, 0.15);\n",
              "      filter: drop-shadow(0px 1px 2px rgba(0, 0, 0, 0.3));\n",
              "      fill: #FFFFFF;\n",
              "    }\n",
              "  </style>\n",
              "\n",
              "    <script>\n",
              "      const buttonEl =\n",
              "        document.querySelector('#df-5911c892-6670-47f7-8a70-a68b225aaf83 button.colab-df-convert');\n",
              "      buttonEl.style.display =\n",
              "        google.colab.kernel.accessAllowed ? 'block' : 'none';\n",
              "\n",
              "      async function convertToInteractive(key) {\n",
              "        const element = document.querySelector('#df-5911c892-6670-47f7-8a70-a68b225aaf83');\n",
              "        const dataTable =\n",
              "          await google.colab.kernel.invokeFunction('convertToInteractive',\n",
              "                                                    [key], {});\n",
              "        if (!dataTable) return;\n",
              "\n",
              "        const docLinkHtml = 'Like what you see? Visit the ' +\n",
              "          '<a target=\"_blank\" href=https://colab.research.google.com/notebooks/data_table.ipynb>data table notebook</a>'\n",
              "          + ' to learn more about interactive tables.';\n",
              "        element.innerHTML = '';\n",
              "        dataTable['output_type'] = 'display_data';\n",
              "        await google.colab.output.renderOutput(dataTable, element);\n",
              "        const docLink = document.createElement('div');\n",
              "        docLink.innerHTML = docLinkHtml;\n",
              "        element.appendChild(docLink);\n",
              "      }\n",
              "    </script>\n",
              "  </div>\n",
              "\n",
              "\n",
              "<div id=\"df-fb265891-1c66-47af-95cb-3b3dc12f22fa\">\n",
              "  <button class=\"colab-df-quickchart\" onclick=\"quickchart('df-fb265891-1c66-47af-95cb-3b3dc12f22fa')\"\n",
              "            title=\"Suggest charts\"\n",
              "            style=\"display:none;\">\n",
              "\n",
              "<svg xmlns=\"http://www.w3.org/2000/svg\" height=\"24px\"viewBox=\"0 0 24 24\"\n",
              "     width=\"24px\">\n",
              "    <g>\n",
              "        <path d=\"M19 3H5c-1.1 0-2 .9-2 2v14c0 1.1.9 2 2 2h14c1.1 0 2-.9 2-2V5c0-1.1-.9-2-2-2zM9 17H7v-7h2v7zm4 0h-2V7h2v10zm4 0h-2v-4h2v4z\"/>\n",
              "    </g>\n",
              "</svg>\n",
              "  </button>\n",
              "\n",
              "<style>\n",
              "  .colab-df-quickchart {\n",
              "      --bg-color: #E8F0FE;\n",
              "      --fill-color: #1967D2;\n",
              "      --hover-bg-color: #E2EBFA;\n",
              "      --hover-fill-color: #174EA6;\n",
              "      --disabled-fill-color: #AAA;\n",
              "      --disabled-bg-color: #DDD;\n",
              "  }\n",
              "\n",
              "  [theme=dark] .colab-df-quickchart {\n",
              "      --bg-color: #3B4455;\n",
              "      --fill-color: #D2E3FC;\n",
              "      --hover-bg-color: #434B5C;\n",
              "      --hover-fill-color: #FFFFFF;\n",
              "      --disabled-bg-color: #3B4455;\n",
              "      --disabled-fill-color: #666;\n",
              "  }\n",
              "\n",
              "  .colab-df-quickchart {\n",
              "    background-color: var(--bg-color);\n",
              "    border: none;\n",
              "    border-radius: 50%;\n",
              "    cursor: pointer;\n",
              "    display: none;\n",
              "    fill: var(--fill-color);\n",
              "    height: 32px;\n",
              "    padding: 0;\n",
              "    width: 32px;\n",
              "  }\n",
              "\n",
              "  .colab-df-quickchart:hover {\n",
              "    background-color: var(--hover-bg-color);\n",
              "    box-shadow: 0 1px 2px rgba(60, 64, 67, 0.3), 0 1px 3px 1px rgba(60, 64, 67, 0.15);\n",
              "    fill: var(--button-hover-fill-color);\n",
              "  }\n",
              "\n",
              "  .colab-df-quickchart-complete:disabled,\n",
              "  .colab-df-quickchart-complete:disabled:hover {\n",
              "    background-color: var(--disabled-bg-color);\n",
              "    fill: var(--disabled-fill-color);\n",
              "    box-shadow: none;\n",
              "  }\n",
              "\n",
              "  .colab-df-spinner {\n",
              "    border: 2px solid var(--fill-color);\n",
              "    border-color: transparent;\n",
              "    border-bottom-color: var(--fill-color);\n",
              "    animation:\n",
              "      spin 1s steps(1) infinite;\n",
              "  }\n",
              "\n",
              "  @keyframes spin {\n",
              "    0% {\n",
              "      border-color: transparent;\n",
              "      border-bottom-color: var(--fill-color);\n",
              "      border-left-color: var(--fill-color);\n",
              "    }\n",
              "    20% {\n",
              "      border-color: transparent;\n",
              "      border-left-color: var(--fill-color);\n",
              "      border-top-color: var(--fill-color);\n",
              "    }\n",
              "    30% {\n",
              "      border-color: transparent;\n",
              "      border-left-color: var(--fill-color);\n",
              "      border-top-color: var(--fill-color);\n",
              "      border-right-color: var(--fill-color);\n",
              "    }\n",
              "    40% {\n",
              "      border-color: transparent;\n",
              "      border-right-color: var(--fill-color);\n",
              "      border-top-color: var(--fill-color);\n",
              "    }\n",
              "    60% {\n",
              "      border-color: transparent;\n",
              "      border-right-color: var(--fill-color);\n",
              "    }\n",
              "    80% {\n",
              "      border-color: transparent;\n",
              "      border-right-color: var(--fill-color);\n",
              "      border-bottom-color: var(--fill-color);\n",
              "    }\n",
              "    90% {\n",
              "      border-color: transparent;\n",
              "      border-bottom-color: var(--fill-color);\n",
              "    }\n",
              "  }\n",
              "</style>\n",
              "\n",
              "  <script>\n",
              "    async function quickchart(key) {\n",
              "      const quickchartButtonEl =\n",
              "        document.querySelector('#' + key + ' button');\n",
              "      quickchartButtonEl.disabled = true;  // To prevent multiple clicks.\n",
              "      quickchartButtonEl.classList.add('colab-df-spinner');\n",
              "      try {\n",
              "        const charts = await google.colab.kernel.invokeFunction(\n",
              "            'suggestCharts', [key], {});\n",
              "      } catch (error) {\n",
              "        console.error('Error during call to suggestCharts:', error);\n",
              "      }\n",
              "      quickchartButtonEl.classList.remove('colab-df-spinner');\n",
              "      quickchartButtonEl.classList.add('colab-df-quickchart-complete');\n",
              "    }\n",
              "    (() => {\n",
              "      let quickchartButtonEl =\n",
              "        document.querySelector('#df-fb265891-1c66-47af-95cb-3b3dc12f22fa button');\n",
              "      quickchartButtonEl.style.display =\n",
              "        google.colab.kernel.accessAllowed ? 'block' : 'none';\n",
              "    })();\n",
              "  </script>\n",
              "</div>\n",
              "\n",
              "    </div>\n",
              "  </div>\n"
            ],
            "application/vnd.google.colaboratory.intrinsic+json": {
              "type": "dataframe",
              "variable_name": "train_data"
            }
          },
          "metadata": {},
          "execution_count": 551
        }
      ]
    },
    {
      "cell_type": "code",
      "source": [
        "plt.figure(figsize=(8, 5))\n",
        "sns.scatterplot(data=train_data, x='ratings.value', y='min_price')\n",
        "plt.title(\"Relationship Between Rating and Min Price\")\n",
        "plt.xlabel(\"Rating\")\n",
        "plt.ylabel(\"Min Price\")\n",
        "plt.grid(True)\n",
        "plt.show()\n"
      ],
      "metadata": {
        "colab": {
          "base_uri": "https://localhost:8080/",
          "height": 487
        },
        "id": "mIIObTCLWBnj",
        "outputId": "2050f147-5648-4dbc-8dd8-96c18a885bce"
      },
      "execution_count": 552,
      "outputs": [
        {
          "output_type": "display_data",
          "data": {
            "text/plain": [
              "<Figure size 800x500 with 1 Axes>"
            ],
            "image/png": "[encoded data removed]"
          },
          "metadata": {}
        }
      ]
    },
    {
      "cell_type": "code",
      "source": [
        "train_data['is_zero'] = (train_data['ratings.value'] == 0).astype(int)\n"
      ],
      "metadata": {
        "id": "MntO-_WbdanH"
      },
      "execution_count": 553,
      "outputs": []
    },
    {
      "cell_type": "code",
      "source": [
        "train_data['average_area_per_person'] = train_data['floor_area'] / train_data['max_guest_number']\n",
        "\n",
        "train_data['average_realarea_per_person'] = train_data['floor_area'] / train_data['guest_number']\n",
        "\n",
        "train_data['average_area_per_bedroom'] = train_data['floor_area'] / (train_data['bedrooms']+1)\n",
        "\n",
        "train_data = train_data[train_data['max_guest_number'] != 100]\n",
        "\n",
        "train_data = train_data[train_data[\"min_price\"] > 0]\n"
      ],
      "metadata": {
        "id": "4WyVzXW9e3o8"
      },
      "execution_count": 554,
      "outputs": []
    },
    {
      "cell_type": "code",
      "source": [
        "train_data.columns"
      ],
      "metadata": {
        "colab": {
          "base_uri": "https://localhost:8080/"
        },
        "id": "NlnFn2HEl473",
        "outputId": "0965ba64-dabc-428f-b4a3-482ea72d0483"
      },
      "execution_count": 555,
      "outputs": [
        {
          "output_type": "execute_result",
          "data": {
            "text/plain": [
              "Index(['allocation', 'types', 'regions', 'floor_area', 'bedrooms',\n",
              "       'guest_number', 'max_guest_number', 'rules', 'min_price', 'is_clean',\n",
              "       'is_new', 'is_instant', 'is_plus', 'geo.lat', 'geo.lng',\n",
              "       'province.name', 'city.name', 'ratings.count', 'ratings.total',\n",
              "       'ratings.cleanliness', 'ratings.location', 'ratings.checkin',\n",
              "       'ratings.value', 'has_barbecue', 'guest_category',\n",
              "       'floor_area_category', 'is_zero', 'average_area_per_person',\n",
              "       'average_realarea_per_person', 'average_area_per_bedroom'],\n",
              "      dtype='object')"
            ]
          },
          "metadata": {},
          "execution_count": 555
        }
      ]
    },
    {
      "cell_type": "code",
      "source": [
        "train_data_cleaned = train_data"
      ],
      "metadata": {
        "id": "byThjGTa7QBt"
      },
      "execution_count": 556,
      "outputs": []
    },
    {
      "cell_type": "code",
      "source": [
        "train_data_cleaned[\"regions\"] = train_data_cleaned['regions'].apply(ast.literal_eval)\n",
        "region_dummies = train_data_cleaned['regions'].explode().str.get_dummies().groupby(level=0).max()\n",
        "train_data_cleaned = pd.concat([train_data_cleaned.drop(columns='regions'), region_dummies], axis=1)"
      ],
      "metadata": {
        "id": "JUegNLba7QBu"
      },
      "execution_count": 557,
      "outputs": []
    },
    {
      "cell_type": "code",
      "source": [
        "train_data_cleaned[\"rules\"] = train_data_cleaned['rules'].apply(ast.literal_eval)\n",
        "rules_dummies = train_data_cleaned['rules'].explode().str.get_dummies().groupby(level=0).max()\n",
        "train_data_cleaned = pd.concat([train_data_cleaned.drop(columns='rules'), rules_dummies], axis=1)"
      ],
      "metadata": {
        "id": "4sTLQaCo7QBu"
      },
      "execution_count": 558,
      "outputs": []
    },
    {
      "cell_type": "code",
      "source": [
        "train_data_cleaned[\"types\"] = train_data_cleaned['types'].apply(ast.literal_eval)\n",
        "types_dummies = train_data_cleaned['types'].explode().str.get_dummies().groupby(level=0).max()\n",
        "train_data_cleaned = pd.concat([train_data_cleaned.drop(columns='types'), types_dummies], axis=1)"
      ],
      "metadata": {
        "id": "8oIMDKPH7QBu"
      },
      "execution_count": 559,
      "outputs": []
    },
    {
      "cell_type": "code",
      "source": [
        "\n",
        "train_data_cleaned.head()"
      ],
      "metadata": {
        "colab": {
          "base_uri": "https://localhost:8080/",
          "height": 256
        },
        "outputId": "3a9b86a8-f855-4088-d04c-7996ebb70824",
        "id": "RTcLogRu7QBu"
      },
      "execution_count": 560,
      "outputs": [
        {
          "output_type": "execute_result",
          "data": {
            "text/plain": [
              "     allocation  floor_area  bedrooms  guest_number  max_guest_number  \\\n",
              "0  entire_place          60         1             2                 3   \n",
              "1  entire_place          80         2             5                10   \n",
              "2  entire_place          60         1             2                 6   \n",
              "3  entire_place         110         1             6                 8   \n",
              "4  private_room          14         0             2                 2   \n",
              "\n",
              "   min_price  is_clean  is_new  is_instant  is_plus  ...  caravansera  \\\n",
              "0    1500000     False   False        True    False  ...            0   \n",
              "1    1600000     False   False       False    False  ...            0   \n",
              "2     730000     False   False        True    False  ...            0   \n",
              "3    3000000     False    True       False    False  ...            0   \n",
              "4    2300000     False   False       False    False  ...            0   \n",
              "\n",
              "   cottage ecolog hostel  motel  ruralhome  suite  swiss_cottage  villa  \\\n",
              "0        0      0      0      0          0      1              0      1   \n",
              "1        0      0      0      0          0      0              0      1   \n",
              "2        0      0      0      0          0      1              0      0   \n",
              "3        0      0      0      0          0      0              0      1   \n",
              "4        0      1      0      0          0      0              0      0   \n",
              "\n",
              "   wooden_cottage  \n",
              "0               0  \n",
              "1               0  \n",
              "2               0  \n",
              "3               0  \n",
              "4               0  \n",
              "\n",
              "[5 rows x 51 columns]"
            ],
            "text/html": [
              "\n",
              "  <div id=\"df-f8da38eb-7961-499d-8648-1e561be9b2e1\" class=\"colab-df-container\">\n",
              "    <div>\n",
              "<style scoped>\n",
              "    .dataframe tbody tr th:only-of-type {\n",
              "        vertical-align: middle;\n",
              "    }\n",
              "\n",
              "    .dataframe tbody tr th {\n",
              "        vertical-align: top;\n",
              "    }\n",
              "\n",
              "    .dataframe thead th {\n",
              "        text-align: right;\n",
              "    }\n",
              "</style>\n",
              "<table border=\"1\" class=\"dataframe\">\n",
              "  <thead>\n",
              "    <tr style=\"text-align: right;\">\n",
              "      <th></th>\n",
              "      <th>allocation</th>\n",
              "      <th>floor_area</th>\n",
              "      <th>bedrooms</th>\n",
              "      <th>guest_number</th>\n",
              "      <th>max_guest_number</th>\n",
              "      <th>min_price</th>\n",
              "      <th>is_clean</th>\n",
              "      <th>is_new</th>\n",
              "      <th>is_instant</th>\n",
              "      <th>is_plus</th>\n",
              "      <th>...</th>\n",
              "      <th>caravansera</th>\n",
              "      <th>cottage</th>\n",
              "      <th>ecolog</th>\n",
              "      <th>hostel</th>\n",
              "      <th>motel</th>\n",
              "      <th>ruralhome</th>\n",
              "      <th>suite</th>\n",
              "      <th>swiss_cottage</th>\n",
              "      <th>villa</th>\n",
              "      <th>wooden_cottage</th>\n",
              "    </tr>\n",
              "  </thead>\n",
              "  <tbody>\n",
              "    <tr>\n",
              "      <th>0</th>\n",
              "      <td>entire_place</td>\n",
              "      <td>60</td>\n",
              "      <td>1</td>\n",
              "      <td>2</td>\n",
              "      <td>3</td>\n",
              "      <td>1500000</td>\n",
              "      <td>False</td>\n",
              "      <td>False</td>\n",
              "      <td>True</td>\n",
              "      <td>False</td>\n",
              "      <td>...</td>\n",
              "      <td>0</td>\n",
              "      <td>0</td>\n",
              "      <td>0</td>\n",
              "      <td>0</td>\n",
              "      <td>0</td>\n",
              "      <td>0</td>\n",
              "      <td>1</td>\n",
              "      <td>0</td>\n",
              "      <td>1</td>\n",
              "      <td>0</td>\n",
              "    </tr>\n",
              "    <tr>\n",
              "      <th>1</th>\n",
              "      <td>entire_place</td>\n",
              "      <td>80</td>\n",
              "      <td>2</td>\n",
              "      <td>5</td>\n",
              "      <td>10</td>\n",
              "      <td>1600000</td>\n",
              "      <td>False</td>\n",
              "      <td>False</td>\n",
              "      <td>False</td>\n",
              "      <td>False</td>\n",
              "      <td>...</td>\n",
              "      <td>0</td>\n",
              "      <td>0</td>\n",
              "      <td>0</td>\n",
              "      <td>0</td>\n",
              "      <td>0</td>\n",
              "      <td>0</td>\n",
              "      <td>0</td>\n",
              "      <td>0</td>\n",
              "      <td>1</td>\n",
              "      <td>0</td>\n",
              "    </tr>\n",
              "    <tr>\n",
              "      <th>2</th>\n",
              "      <td>entire_place</td>\n",
              "      <td>60</td>\n",
              "      <td>1</td>\n",
              "      <td>2</td>\n",
              "      <td>6</td>\n",
              "      <td>730000</td>\n",
              "      <td>False</td>\n",
              "      <td>False</td>\n",
              "      <td>True</td>\n",
              "      <td>False</td>\n",
              "      <td>...</td>\n",
              "      <td>0</td>\n",
              "      <td>0</td>\n",
              "      <td>0</td>\n",
              "      <td>0</td>\n",
              "      <td>0</td>\n",
              "      <td>0</td>\n",
              "      <td>1</td>\n",
              "      <td>0</td>\n",
              "      <td>0</td>\n",
              "      <td>0</td>\n",
              "    </tr>\n",
              "    <tr>\n",
              "      <th>3</th>\n",
              "      <td>entire_place</td>\n",
              "      <td>110</td>\n",
              "      <td>1</td>\n",
              "      <td>6</td>\n",
              "      <td>8</td>\n",
              "      <td>3000000</td>\n",
              "      <td>False</td>\n",
              "      <td>True</td>\n",
              "      <td>False</td>\n",
              "      <td>False</td>\n",
              "      <td>...</td>\n",
              "      <td>0</td>\n",
              "      <td>0</td>\n",
              "      <td>0</td>\n",
              "      <td>0</td>\n",
              "      <td>0</td>\n",
              "      <td>0</td>\n",
              "      <td>0</td>\n",
              "      <td>0</td>\n",
              "      <td>1</td>\n",
              "      <td>0</td>\n",
              "    </tr>\n",
              "    <tr>\n",
              "      <th>4</th>\n",
              "      <td>private_room</td>\n",
              "      <td>14</td>\n",
              "      <td>0</td>\n",
              "      <td>2</td>\n",
              "      <td>2</td>\n",
              "      <td>2300000</td>\n",
              "      <td>False</td>\n",
              "      <td>False</td>\n",
              "      <td>False</td>\n",
              "      <td>False</td>\n",
              "      <td>...</td>\n",
              "      <td>0</td>\n",
              "      <td>0</td>\n",
              "      <td>1</td>\n",
              "      <td>0</td>\n",
              "      <td>0</td>\n",
              "      <td>0</td>\n",
              "      <td>0</td>\n",
              "      <td>0</td>\n",
              "      <td>0</td>\n",
              "      <td>0</td>\n",
              "    </tr>\n",
              "  </tbody>\n",
              "</table>\n",
              "<p>5 rows × 51 columns</p>\n",
              "</div>\n",
              "    <div class=\"colab-df-buttons\">\n",
              "\n",
              "  <div class=\"colab-df-container\">\n",
              "    <button class=\"colab-df-convert\" onclick=\"convertToInteractive('df-f8da38eb-7961-499d-8648-1e561be9b2e1')\"\n",
              "            title=\"Convert this dataframe to an interactive table.\"\n",
              "            style=\"display:none;\">\n",
              "\n",
              "  <svg xmlns=\"http://www.w3.org/2000/svg\" height=\"24px\" viewBox=\"0 -960 960 960\">\n",
              "    <path d=\"M120-120v-720h720v720H120Zm60-500h600v-160H180v160Zm220 220h160v-160H400v160Zm0 220h160v-160H400v160ZM180-400h160v-160H180v160Zm440 0h160v-160H620v160ZM180-180h160v-160H180v160Zm440 0h160v-160H620v160Z\"/>\n",
              "  </svg>\n",
              "    </button>\n",
              "\n",
              "  <style>\n",
              "    .colab-df-container {\n",
              "      display:flex;\n",
              "      gap: 12px;\n",
              "    }\n",
              "\n",
              "    .colab-df-convert {\n",
              "      background-color: #E8F0FE;\n",
              "      border: none;\n",
              "      border-radius: 50%;\n",
              "      cursor: pointer;\n",
              "      display: none;\n",
              "      fill: #1967D2;\n",
              "      height: 32px;\n",
              "      padding: 0 0 0 0;\n",
              "      width: 32px;\n",
              "    }\n",
              "\n",
              "    .colab-df-convert:hover {\n",
              "      background-color: #E2EBFA;\n",
              "      box-shadow: 0px 1px 2px rgba(60, 64, 67, 0.3), 0px 1px 3px 1px rgba(60, 64, 67, 0.15);\n",
              "      fill: #174EA6;\n",
              "    }\n",
              "\n",
              "    .colab-df-buttons div {\n",
              "      margin-bottom: 4px;\n",
              "    }\n",
              "\n",
              "    [theme=dark] .colab-df-convert {\n",
              "      background-color: #3B4455;\n",
              "      fill: #D2E3FC;\n",
              "    }\n",
              "\n",
              "    [theme=dark] .colab-df-convert:hover {\n",
              "      background-color: #434B5C;\n",
              "      box-shadow: 0px 1px 3px 1px rgba(0, 0, 0, 0.15);\n",
              "      filter: drop-shadow(0px 1px 2px rgba(0, 0, 0, 0.3));\n",
              "      fill: #FFFFFF;\n",
              "    }\n",
              "  </style>\n",
              "\n",
              "    <script>\n",
              "      const buttonEl =\n",
              "        document.querySelector('#df-f8da38eb-7961-499d-8648-1e561be9b2e1 button.colab-df-convert');\n",
              "      buttonEl.style.display =\n",
              "        google.colab.kernel.accessAllowed ? 'block' : 'none';\n",
              "\n",
              "      async function convertToInteractive(key) {\n",
              "        const element = document.querySelector('#df-f8da38eb-7961-499d-8648-1e561be9b2e1');\n",
              "        const dataTable =\n",
              "          await google.colab.kernel.invokeFunction('convertToInteractive',\n",
              "                                                    [key], {});\n",
              "        if (!dataTable) return;\n",
              "\n",
              "        const docLinkHtml = 'Like what you see? Visit the ' +\n",
              "          '<a target=\"_blank\" href=https://colab.research.google.com/notebooks/data_table.ipynb>data table notebook</a>'\n",
              "          + ' to learn more about interactive tables.';\n",
              "        element.innerHTML = '';\n",
              "        dataTable['output_type'] = 'display_data';\n",
              "        await google.colab.output.renderOutput(dataTable, element);\n",
              "        const docLink = document.createElement('div');\n",
              "        docLink.innerHTML = docLinkHtml;\n",
              "        element.appendChild(docLink);\n",
              "      }\n",
              "    </script>\n",
              "  </div>\n",
              "\n",
              "\n",
              "<div id=\"df-da104946-ad4c-46a3-8dbd-e300149da500\">\n",
              "  <button class=\"colab-df-quickchart\" onclick=\"quickchart('df-da104946-ad4c-46a3-8dbd-e300149da500')\"\n",
              "            title=\"Suggest charts\"\n",
              "            style=\"display:none;\">\n",
              "\n",
              "<svg xmlns=\"http://www.w3.org/2000/svg\" height=\"24px\"viewBox=\"0 0 24 24\"\n",
              "     width=\"24px\">\n",
              "    <g>\n",
              "        <path d=\"M19 3H5c-1.1 0-2 .9-2 2v14c0 1.1.9 2 2 2h14c1.1 0 2-.9 2-2V5c0-1.1-.9-2-2-2zM9 17H7v-7h2v7zm4 0h-2V7h2v10zm4 0h-2v-4h2v4z\"/>\n",
              "    </g>\n",
              "</svg>\n",
              "  </button>\n",
              "\n",
              "<style>\n",
              "  .colab-df-quickchart {\n",
              "      --bg-color: #E8F0FE;\n",
              "      --fill-color: #1967D2;\n",
              "      --hover-bg-color: #E2EBFA;\n",
              "      --hover-fill-color: #174EA6;\n",
              "      --disabled-fill-color: #AAA;\n",
              "      --disabled-bg-color: #DDD;\n",
              "  }\n",
              "\n",
              "  [theme=dark] .colab-df-quickchart {\n",
              "      --bg-color: #3B4455;\n",
              "      --fill-color: #D2E3FC;\n",
              "      --hover-bg-color: #434B5C;\n",
              "      --hover-fill-color: #FFFFFF;\n",
              "      --disabled-bg-color: #3B4455;\n",
              "      --disabled-fill-color: #666;\n",
              "  }\n",
              "\n",
              "  .colab-df-quickchart {\n",
              "    background-color: var(--bg-color);\n",
              "    border: none;\n",
              "    border-radius: 50%;\n",
              "    cursor: pointer;\n",
              "    display: none;\n",
              "    fill: var(--fill-color);\n",
              "    height: 32px;\n",
              "    padding: 0;\n",
              "    width: 32px;\n",
              "  }\n",
              "\n",
              "  .colab-df-quickchart:hover {\n",
              "    background-color: var(--hover-bg-color);\n",
              "    box-shadow: 0 1px 2px rgba(60, 64, 67, 0.3), 0 1px 3px 1px rgba(60, 64, 67, 0.15);\n",
              "    fill: var(--button-hover-fill-color);\n",
              "  }\n",
              "\n",
              "  .colab-df-quickchart-complete:disabled,\n",
              "  .colab-df-quickchart-complete:disabled:hover {\n",
              "    background-color: var(--disabled-bg-color);\n",
              "    fill: var(--disabled-fill-color);\n",
              "    box-shadow: none;\n",
              "  }\n",
              "\n",
              "  .colab-df-spinner {\n",
              "    border: 2px solid var(--fill-color);\n",
              "    border-color: transparent;\n",
              "    border-bottom-color: var(--fill-color);\n",
              "    animation:\n",
              "      spin 1s steps(1) infinite;\n",
              "  }\n",
              "\n",
              "  @keyframes spin {\n",
              "    0% {\n",
              "      border-color: transparent;\n",
              "      border-bottom-color: var(--fill-color);\n",
              "      border-left-color: var(--fill-color);\n",
              "    }\n",
              "    20% {\n",
              "      border-color: transparent;\n",
              "      border-left-color: var(--fill-color);\n",
              "      border-top-color: var(--fill-color);\n",
              "    }\n",
              "    30% {\n",
              "      border-color: transparent;\n",
              "      border-left-color: var(--fill-color);\n",
              "      border-top-color: var(--fill-color);\n",
              "      border-right-color: var(--fill-color);\n",
              "    }\n",
              "    40% {\n",
              "      border-color: transparent;\n",
              "      border-right-color: var(--fill-color);\n",
              "      border-top-color: var(--fill-color);\n",
              "    }\n",
              "    60% {\n",
              "      border-color: transparent;\n",
              "      border-right-color: var(--fill-color);\n",
              "    }\n",
              "    80% {\n",
              "      border-color: transparent;\n",
              "      border-right-color: var(--fill-color);\n",
              "      border-bottom-color: var(--fill-color);\n",
              "    }\n",
              "    90% {\n",
              "      border-color: transparent;\n",
              "      border-bottom-color: var(--fill-color);\n",
              "    }\n",
              "  }\n",
              "</style>\n",
              "\n",
              "  <script>\n",
              "    async function quickchart(key) {\n",
              "      const quickchartButtonEl =\n",
              "        document.querySelector('#' + key + ' button');\n",
              "      quickchartButtonEl.disabled = true;  // To prevent multiple clicks.\n",
              "      quickchartButtonEl.classList.add('colab-df-spinner');\n",
              "      try {\n",
              "        const charts = await google.colab.kernel.invokeFunction(\n",
              "            'suggestCharts', [key], {});\n",
              "      } catch (error) {\n",
              "        console.error('Error during call to suggestCharts:', error);\n",
              "      }\n",
              "      quickchartButtonEl.classList.remove('colab-df-spinner');\n",
              "      quickchartButtonEl.classList.add('colab-df-quickchart-complete');\n",
              "    }\n",
              "    (() => {\n",
              "      let quickchartButtonEl =\n",
              "        document.querySelector('#df-da104946-ad4c-46a3-8dbd-e300149da500 button');\n",
              "      quickchartButtonEl.style.display =\n",
              "        google.colab.kernel.accessAllowed ? 'block' : 'none';\n",
              "    })();\n",
              "  </script>\n",
              "</div>\n",
              "\n",
              "    </div>\n",
              "  </div>\n"
            ],
            "application/vnd.google.colaboratory.intrinsic+json": {
              "type": "dataframe",
              "variable_name": "train_data_cleaned"
            }
          },
          "metadata": {},
          "execution_count": 560
        }
      ]
    },
    {
      "cell_type": "code",
      "source": [
        "plt.figure(figsize=(8, 5))\n",
        "sns.displot(train_data_cleaned['bedrooms'], kind='hist')\n",
        "plt.title('Distribution of min_price')\n",
        "plt.xlabel('min_price')\n",
        "plt.ylabel('Frequency')\n",
        "plt.grid(True)\n",
        "plt.show()\n"
      ],
      "metadata": {
        "colab": {
          "base_uri": "https://localhost:8080/",
          "height": 546
        },
        "outputId": "67b6fbe1-d9be-4fc1-d839-b406326f664c",
        "id": "XtOD_NNJ7QBv"
      },
      "execution_count": 641,
      "outputs": [
        {
          "output_type": "display_data",
          "data": {
            "text/plain": [
              "<Figure size 800x500 with 0 Axes>"
            ]
          },
          "metadata": {}
        },
        {
          "output_type": "display_data",
          "data": {
            "text/plain": [
              "<Figure size 500x500 with 1 Axes>"
            ],
            "image/png": "[encoded data removed]"
          },
          "metadata": {}
        }
      ]
    },
    {
      "cell_type": "code",
      "source": [
        "train_data_cleaned.columns"
      ],
      "metadata": {
        "colab": {
          "base_uri": "https://localhost:8080/"
        },
        "id": "DjElGcy0fUbi",
        "outputId": "6daca5ad-3e25-4a1b-d733-d43a20336c41"
      },
      "execution_count": 562,
      "outputs": [
        {
          "output_type": "execute_result",
          "data": {
            "text/plain": [
              "Index(['allocation', 'floor_area', 'bedrooms', 'guest_number',\n",
              "       'max_guest_number', 'min_price', 'is_clean', 'is_new', 'is_instant',\n",
              "       'is_plus', 'geo.lat', 'geo.lng', 'province.name', 'city.name',\n",
              "       'ratings.count', 'ratings.total', 'ratings.cleanliness',\n",
              "       'ratings.location', 'ratings.checkin', 'ratings.value', 'has_barbecue',\n",
              "       'guest_category', 'floor_area_category', 'is_zero',\n",
              "       'average_area_per_person', 'average_realarea_per_person',\n",
              "       'average_area_per_bedroom', 'beach', 'desert', 'forest', 'mountain',\n",
              "       'rural', 'suburb', 'urban', 'party', 'pet', 'smoke', 'unmarried',\n",
              "       'apartment', 'apartmenthotel', 'boutiquehotel', 'caravansera',\n",
              "       'cottage', 'ecolog', 'hostel', 'motel', 'ruralhome', 'suite',\n",
              "       'swiss_cottage', 'villa', 'wooden_cottage'],\n",
              "      dtype='object')"
            ]
          },
          "metadata": {},
          "execution_count": 562
        }
      ]
    },
    {
      "cell_type": "code",
      "source": [
        "ordinal_columns = [\"city.name\", \"province.name\", \"allocation\", \"is_clean\", \"is_new\", \"is_instant\", \"is_plus\", \"floor_area_category\", \"guest_category\"]\n",
        "for column in ordinal_columns:\n",
        "  train_data_cleaned[column] = train_data_cleaned[column].astype('category')\n",
        "  ord_enc = OrdinalEncoder()\n",
        "  train_data_cleaned[column] = ord_enc.fit_transform(train_data_cleaned[[column]])"
      ],
      "metadata": {
        "id": "SmWm-ceN7QBv"
      },
      "execution_count": 563,
      "outputs": []
    },
    {
      "cell_type": "code",
      "source": [
        "train_data_cleaned['bedroom_density'] = train_data_cleaned['bedrooms'] / train_data_cleaned['floor_area']\n",
        "train_data_cleaned['guest_capacity_ratio'] = train_data_cleaned['guest_number'] / train_data_cleaned['max_guest_number']\n",
        "train_data_cleaned['guest_capacity_diff'] = train_data_cleaned['max_guest_number'] - train_data_cleaned['guest_number']\n",
        "train_data_cleaned['composite_rating'] = train_data_cleaned[['ratings.cleanliness', 'ratings.location', 'ratings.checkin', 'ratings.value']].mean(axis=1)\n",
        "train_data_cleaned['average_rating'] = train_data_cleaned.apply(lambda row: row['ratings.total'] / row['ratings.count'] if row['ratings.count'] > 0 else 0, axis=1)"
      ],
      "metadata": {
        "id": "CUIbMdjXO5lD"
      },
      "execution_count": 564,
      "outputs": []
    },
    {
      "cell_type": "code",
      "source": [
        "rating_cols = ['ratings.cleanliness', 'ratings.location', 'ratings.checkin', 'ratings.value']\n",
        "train_data_cleaned['average_ratings'] = train_data_cleaned[rating_cols].mean(axis=1)\n",
        "#train_data_cleaned.drop(columns=rating_cols, inplace=True)"
      ],
      "metadata": {
        "id": "7yA1RhysQbl7"
      },
      "execution_count": 565,
      "outputs": []
    },
    {
      "cell_type": "code",
      "source": [
        "is_clean_cols = ['is_clean', 'is_new', 'is_instant', 'is_plus']\n",
        "train_data_cleaned['is_clean_count'] = train_data_cleaned[is_clean_cols].sum(axis=1)"
      ],
      "metadata": {
        "id": "I2Qx8mmKQ0am"
      },
      "execution_count": 566,
      "outputs": []
    },
    {
      "cell_type": "code",
      "source": [
        "landscape_cols = ['beach', 'desert', 'forest', 'mountain', 'rural', 'suburb', 'urban']\n",
        "train_data_cleaned['landscape_diversity'] = train_data_cleaned[landscape_cols].sum(axis=1)\n",
        "#train_data_cleaned.drop(columns=landscape_cols, inplace=True)"
      ],
      "metadata": {
        "id": "Xeb2siAMPMX_"
      },
      "execution_count": 567,
      "outputs": []
    },
    {
      "cell_type": "code",
      "source": [
        "property_type_cols = ['apartment', 'apartmenthotel', 'boutiquehotel', 'caravansera', 'cottage', 'ecolog', 'hostel', 'motel', 'ruralhome', 'suite', 'swiss_cottage', 'villa', 'wooden_cottage']\n",
        "train_data_cleaned['property_type_count'] = train_data_cleaned[property_type_cols].sum(axis=1)\n",
        "#train_data_cleaned.drop(columns=property_type_cols, inplace=True)"
      ],
      "metadata": {
        "id": "OboCZtA9POBF"
      },
      "execution_count": 568,
      "outputs": []
    },
    {
      "cell_type": "code",
      "source": [
        "from sklearn.cluster import KMeans\n",
        "kmeans = KMeans(n_clusters=5, random_state=42)\n",
        "train_data_cleaned['neighborhood'] = kmeans.fit_predict(train_data_cleaned[['geo.lat', 'geo.lng']])"
      ],
      "metadata": {
        "id": "pRLr-zeiPB_1"
      },
      "execution_count": 569,
      "outputs": []
    },
    {
      "cell_type": "code",
      "source": [
        "# Compute correlation matrix\n",
        "corr = train_data_cleaned.corr()\n",
        "\n",
        "# Select only the min_price correlations (as a DataFrame)\n",
        "min_price_corr = corr[['min_price']].sort_values(by='min_price', ascending=False)\n",
        "\n",
        "# Plot heatmap\n",
        "plt.figure(figsize=(8, 12))  # Tall and narrow\n",
        "sns.heatmap(min_price_corr, annot=True, fmt=\".2f\", cmap=\"coolwarm\", cbar=False)\n",
        "plt.title(\"Correlation with min_price\")\n",
        "plt.show()\n"
      ],
      "metadata": {
        "colab": {
          "base_uri": "https://localhost:8080/",
          "height": 1000
        },
        "outputId": "1f875ffd-d8b0-48fc-b2ce-c144d23ad2a1",
        "id": "3I3BcFdR7QBv"
      },
      "execution_count": 570,
      "outputs": [
        {
          "output_type": "display_data",
          "data": {
            "text/plain": [
              "<Figure size 800x1200 with 1 Axes>"
            ],
            "image/png": "[encoded data removed]"
          },
          "metadata": {}
        }
      ]
    },
    {
      "cell_type": "markdown",
      "source": [
        "<h2 align=right style=\"line-height:200%;font-family:vazir;color:#0099cc\">\n",
        "<font face=\"vazir\" color=\"#0099cc\">\n",
        "مدل‌سازی\n",
        "</font>\n",
        "</h2>\n",
        "\n",
        "<p dir=rtl style=\"direction: rtl; text-align: justify; line-height:200%; font-family:vazir; font-size:medium\">\n",
        "<font face=\"vazir\" size=3>\n",
        "پس از پاکسازی داده‌ها و احتمالا حذف بعضی ستون‌ها یا افزودن ویژگی‌های جدید، حال وقت آن است که مطابق سلیقه‌ی خود، مدل مناسب را با استفاده از داده‌های پیش‌پردازش شده آموزش دهید.\n",
        "</font>\n",
        "</p>"
      ],
      "metadata": {
        "id": "PQkbKjZm7QBw"
      }
    },
    {
      "cell_type": "code",
      "source": [
        "train_data_cleaned.head(2)"
      ],
      "metadata": {
        "colab": {
          "base_uri": "https://localhost:8080/",
          "height": 161
        },
        "outputId": "b3697470-0d75-43a8-dad7-7d69c30d6838",
        "id": "740Yw0fN7QBw"
      },
      "execution_count": 571,
      "outputs": [
        {
          "output_type": "execute_result",
          "data": {
            "text/plain": [
              "   allocation  floor_area  bedrooms  guest_number  max_guest_number  \\\n",
              "0         0.0          60         1             2                 3   \n",
              "1         0.0          80         2             5                10   \n",
              "\n",
              "   min_price  is_clean  is_new  is_instant  is_plus  ...  bedroom_density  \\\n",
              "0    1500000       0.0     0.0         1.0      0.0  ...         0.016667   \n",
              "1    1600000       0.0     0.0         0.0      0.0  ...         0.025000   \n",
              "\n",
              "   guest_capacity_ratio  guest_capacity_diff  composite_rating  \\\n",
              "0              0.666667                    1             4.175   \n",
              "1              0.500000                    5             4.325   \n",
              "\n",
              "   average_rating  average_ratings  is_clean_count  landscape_diversity  \\\n",
              "0          0.2625            4.175             1.0                    1   \n",
              "1          0.2500            4.325             0.0                    2   \n",
              "\n",
              "   property_type_count  neighborhood  \n",
              "0                    2             1  \n",
              "1                    1             1  \n",
              "\n",
              "[2 rows x 61 columns]"
            ],
            "text/html": [
              "\n",
              "  <div id=\"df-4ada63e7-795e-47b7-8886-89018ed79fa6\" class=\"colab-df-container\">\n",
              "    <div>\n",
              "<style scoped>\n",
              "    .dataframe tbody tr th:only-of-type {\n",
              "        vertical-align: middle;\n",
              "    }\n",
              "\n",
              "    .dataframe tbody tr th {\n",
              "        vertical-align: top;\n",
              "    }\n",
              "\n",
              "    .dataframe thead th {\n",
              "        text-align: right;\n",
              "    }\n",
              "</style>\n",
              "<table border=\"1\" class=\"dataframe\">\n",
              "  <thead>\n",
              "    <tr style=\"text-align: right;\">\n",
              "      <th></th>\n",
              "      <th>allocation</th>\n",
              "      <th>floor_area</th>\n",
              "      <th>bedrooms</th>\n",
              "      <th>guest_number</th>\n",
              "      <th>max_guest_number</th>\n",
              "      <th>min_price</th>\n",
              "      <th>is_clean</th>\n",
              "      <th>is_new</th>\n",
              "      <th>is_instant</th>\n",
              "      <th>is_plus</th>\n",
              "      <th>...</th>\n",
              "      <th>bedroom_density</th>\n",
              "      <th>guest_capacity_ratio</th>\n",
              "      <th>guest_capacity_diff</th>\n",
              "      <th>composite_rating</th>\n",
              "      <th>average_rating</th>\n",
              "      <th>average_ratings</th>\n",
              "      <th>is_clean_count</th>\n",
              "      <th>landscape_diversity</th>\n",
              "      <th>property_type_count</th>\n",
              "      <th>neighborhood</th>\n",
              "    </tr>\n",
              "  </thead>\n",
              "  <tbody>\n",
              "    <tr>\n",
              "      <th>0</th>\n",
              "      <td>0.0</td>\n",
              "      <td>60</td>\n",
              "      <td>1</td>\n",
              "      <td>2</td>\n",
              "      <td>3</td>\n",
              "      <td>1500000</td>\n",
              "      <td>0.0</td>\n",
              "      <td>0.0</td>\n",
              "      <td>1.0</td>\n",
              "      <td>0.0</td>\n",
              "      <td>...</td>\n",
              "      <td>0.016667</td>\n",
              "      <td>0.666667</td>\n",
              "      <td>1</td>\n",
              "      <td>4.175</td>\n",
              "      <td>0.2625</td>\n",
              "      <td>4.175</td>\n",
              "      <td>1.0</td>\n",
              "      <td>1</td>\n",
              "      <td>2</td>\n",
              "      <td>1</td>\n",
              "    </tr>\n",
              "    <tr>\n",
              "      <th>1</th>\n",
              "      <td>0.0</td>\n",
              "      <td>80</td>\n",
              "      <td>2</td>\n",
              "      <td>5</td>\n",
              "      <td>10</td>\n",
              "      <td>1600000</td>\n",
              "      <td>0.0</td>\n",
              "      <td>0.0</td>\n",
              "      <td>0.0</td>\n",
              "      <td>0.0</td>\n",
              "      <td>...</td>\n",
              "      <td>0.025000</td>\n",
              "      <td>0.500000</td>\n",
              "      <td>5</td>\n",
              "      <td>4.325</td>\n",
              "      <td>0.2500</td>\n",
              "      <td>4.325</td>\n",
              "      <td>0.0</td>\n",
              "      <td>2</td>\n",
              "      <td>1</td>\n",
              "      <td>1</td>\n",
              "    </tr>\n",
              "  </tbody>\n",
              "</table>\n",
              "<p>2 rows × 61 columns</p>\n",
              "</div>\n",
              "    <div class=\"colab-df-buttons\">\n",
              "\n",
              "  <div class=\"colab-df-container\">\n",
              "    <button class=\"colab-df-convert\" onclick=\"convertToInteractive('df-4ada63e7-795e-47b7-8886-89018ed79fa6')\"\n",
              "            title=\"Convert this dataframe to an interactive table.\"\n",
              "            style=\"display:none;\">\n",
              "\n",
              "  <svg xmlns=\"http://www.w3.org/2000/svg\" height=\"24px\" viewBox=\"0 -960 960 960\">\n",
              "    <path d=\"M120-120v-720h720v720H120Zm60-500h600v-160H180v160Zm220 220h160v-160H400v160Zm0 220h160v-160H400v160ZM180-400h160v-160H180v160Zm440 0h160v-160H620v160ZM180-180h160v-160H180v160Zm440 0h160v-160H620v160Z\"/>\n",
              "  </svg>\n",
              "    </button>\n",
              "\n",
              "  <style>\n",
              "    .colab-df-container {\n",
              "      display:flex;\n",
              "      gap: 12px;\n",
              "    }\n",
              "\n",
              "    .colab-df-convert {\n",
              "      background-color: #E8F0FE;\n",
              "      border: none;\n",
              "      border-radius: 50%;\n",
              "      cursor: pointer;\n",
              "      display: none;\n",
              "      fill: #1967D2;\n",
              "      height: 32px;\n",
              "      padding: 0 0 0 0;\n",
              "      width: 32px;\n",
              "    }\n",
              "\n",
              "    .colab-df-convert:hover {\n",
              "      background-color: #E2EBFA;\n",
              "      box-shadow: 0px 1px 2px rgba(60, 64, 67, 0.3), 0px 1px 3px 1px rgba(60, 64, 67, 0.15);\n",
              "      fill: #174EA6;\n",
              "    }\n",
              "\n",
              "    .colab-df-buttons div {\n",
              "      margin-bottom: 4px;\n",
              "    }\n",
              "\n",
              "    [theme=dark] .colab-df-convert {\n",
              "      background-color: #3B4455;\n",
              "      fill: #D2E3FC;\n",
              "    }\n",
              "\n",
              "    [theme=dark] .colab-df-convert:hover {\n",
              "      background-color: #434B5C;\n",
              "      box-shadow: 0px 1px 3px 1px rgba(0, 0, 0, 0.15);\n",
              "      filter: drop-shadow(0px 1px 2px rgba(0, 0, 0, 0.3));\n",
              "      fill: #FFFFFF;\n",
              "    }\n",
              "  </style>\n",
              "\n",
              "    <script>\n",
              "      const buttonEl =\n",
              "        document.querySelector('#df-4ada63e7-795e-47b7-8886-89018ed79fa6 button.colab-df-convert');\n",
              "      buttonEl.style.display =\n",
              "        google.colab.kernel.accessAllowed ? 'block' : 'none';\n",
              "\n",
              "      async function convertToInteractive(key) {\n",
              "        const element = document.querySelector('#df-4ada63e7-795e-47b7-8886-89018ed79fa6');\n",
              "        const dataTable =\n",
              "          await google.colab.kernel.invokeFunction('convertToInteractive',\n",
              "                                                    [key], {});\n",
              "        if (!dataTable) return;\n",
              "\n",
              "        const docLinkHtml = 'Like what you see? Visit the ' +\n",
              "          '<a target=\"_blank\" href=https://colab.research.google.com/notebooks/data_table.ipynb>data table notebook</a>'\n",
              "          + ' to learn more about interactive tables.';\n",
              "        element.innerHTML = '';\n",
              "        dataTable['output_type'] = 'display_data';\n",
              "        await google.colab.output.renderOutput(dataTable, element);\n",
              "        const docLink = document.createElement('div');\n",
              "        docLink.innerHTML = docLinkHtml;\n",
              "        element.appendChild(docLink);\n",
              "      }\n",
              "    </script>\n",
              "  </div>\n",
              "\n",
              "\n",
              "<div id=\"df-1ed31605-1d57-4ad4-9927-8bd5564299a1\">\n",
              "  <button class=\"colab-df-quickchart\" onclick=\"quickchart('df-1ed31605-1d57-4ad4-9927-8bd5564299a1')\"\n",
              "            title=\"Suggest charts\"\n",
              "            style=\"display:none;\">\n",
              "\n",
              "<svg xmlns=\"http://www.w3.org/2000/svg\" height=\"24px\"viewBox=\"0 0 24 24\"\n",
              "     width=\"24px\">\n",
              "    <g>\n",
              "        <path d=\"M19 3H5c-1.1 0-2 .9-2 2v14c0 1.1.9 2 2 2h14c1.1 0 2-.9 2-2V5c0-1.1-.9-2-2-2zM9 17H7v-7h2v7zm4 0h-2V7h2v10zm4 0h-2v-4h2v4z\"/>\n",
              "    </g>\n",
              "</svg>\n",
              "  </button>\n",
              "\n",
              "<style>\n",
              "  .colab-df-quickchart {\n",
              "      --bg-color: #E8F0FE;\n",
              "      --fill-color: #1967D2;\n",
              "      --hover-bg-color: #E2EBFA;\n",
              "      --hover-fill-color: #174EA6;\n",
              "      --disabled-fill-color: #AAA;\n",
              "      --disabled-bg-color: #DDD;\n",
              "  }\n",
              "\n",
              "  [theme=dark] .colab-df-quickchart {\n",
              "      --bg-color: #3B4455;\n",
              "      --fill-color: #D2E3FC;\n",
              "      --hover-bg-color: #434B5C;\n",
              "      --hover-fill-color: #FFFFFF;\n",
              "      --disabled-bg-color: #3B4455;\n",
              "      --disabled-fill-color: #666;\n",
              "  }\n",
              "\n",
              "  .colab-df-quickchart {\n",
              "    background-color: var(--bg-color);\n",
              "    border: none;\n",
              "    border-radius: 50%;\n",
              "    cursor: pointer;\n",
              "    display: none;\n",
              "    fill: var(--fill-color);\n",
              "    height: 32px;\n",
              "    padding: 0;\n",
              "    width: 32px;\n",
              "  }\n",
              "\n",
              "  .colab-df-quickchart:hover {\n",
              "    background-color: var(--hover-bg-color);\n",
              "    box-shadow: 0 1px 2px rgba(60, 64, 67, 0.3), 0 1px 3px 1px rgba(60, 64, 67, 0.15);\n",
              "    fill: var(--button-hover-fill-color);\n",
              "  }\n",
              "\n",
              "  .colab-df-quickchart-complete:disabled,\n",
              "  .colab-df-quickchart-complete:disabled:hover {\n",
              "    background-color: var(--disabled-bg-color);\n",
              "    fill: var(--disabled-fill-color);\n",
              "    box-shadow: none;\n",
              "  }\n",
              "\n",
              "  .colab-df-spinner {\n",
              "    border: 2px solid var(--fill-color);\n",
              "    border-color: transparent;\n",
              "    border-bottom-color: var(--fill-color);\n",
              "    animation:\n",
              "      spin 1s steps(1) infinite;\n",
              "  }\n",
              "\n",
              "  @keyframes spin {\n",
              "    0% {\n",
              "      border-color: transparent;\n",
              "      border-bottom-color: var(--fill-color);\n",
              "      border-left-color: var(--fill-color);\n",
              "    }\n",
              "    20% {\n",
              "      border-color: transparent;\n",
              "      border-left-color: var(--fill-color);\n",
              "      border-top-color: var(--fill-color);\n",
              "    }\n",
              "    30% {\n",
              "      border-color: transparent;\n",
              "      border-left-color: var(--fill-color);\n",
              "      border-top-color: var(--fill-color);\n",
              "      border-right-color: var(--fill-color);\n",
              "    }\n",
              "    40% {\n",
              "      border-color: transparent;\n",
              "      border-right-color: var(--fill-color);\n",
              "      border-top-color: var(--fill-color);\n",
              "    }\n",
              "    60% {\n",
              "      border-color: transparent;\n",
              "      border-right-color: var(--fill-color);\n",
              "    }\n",
              "    80% {\n",
              "      border-color: transparent;\n",
              "      border-right-color: var(--fill-color);\n",
              "      border-bottom-color: var(--fill-color);\n",
              "    }\n",
              "    90% {\n",
              "      border-color: transparent;\n",
              "      border-bottom-color: var(--fill-color);\n",
              "    }\n",
              "  }\n",
              "</style>\n",
              "\n",
              "  <script>\n",
              "    async function quickchart(key) {\n",
              "      const quickchartButtonEl =\n",
              "        document.querySelector('#' + key + ' button');\n",
              "      quickchartButtonEl.disabled = true;  // To prevent multiple clicks.\n",
              "      quickchartButtonEl.classList.add('colab-df-spinner');\n",
              "      try {\n",
              "        const charts = await google.colab.kernel.invokeFunction(\n",
              "            'suggestCharts', [key], {});\n",
              "      } catch (error) {\n",
              "        console.error('Error during call to suggestCharts:', error);\n",
              "      }\n",
              "      quickchartButtonEl.classList.remove('colab-df-spinner');\n",
              "      quickchartButtonEl.classList.add('colab-df-quickchart-complete');\n",
              "    }\n",
              "    (() => {\n",
              "      let quickchartButtonEl =\n",
              "        document.querySelector('#df-1ed31605-1d57-4ad4-9927-8bd5564299a1 button');\n",
              "      quickchartButtonEl.style.display =\n",
              "        google.colab.kernel.accessAllowed ? 'block' : 'none';\n",
              "    })();\n",
              "  </script>\n",
              "</div>\n",
              "\n",
              "    </div>\n",
              "  </div>\n"
            ],
            "application/vnd.google.colaboratory.intrinsic+json": {
              "type": "dataframe",
              "variable_name": "train_data_cleaned"
            }
          },
          "metadata": {},
          "execution_count": 571
        }
      ]
    },
    {
      "cell_type": "code",
      "source": [
        "train_data_cleaned.columns"
      ],
      "metadata": {
        "colab": {
          "base_uri": "https://localhost:8080/"
        },
        "id": "8CyMoVGvuOvl",
        "outputId": "89cbcc54-8e8b-402a-a440-31ec60aa508f"
      },
      "execution_count": 572,
      "outputs": [
        {
          "output_type": "execute_result",
          "data": {
            "text/plain": [
              "Index(['allocation', 'floor_area', 'bedrooms', 'guest_number',\n",
              "       'max_guest_number', 'min_price', 'is_clean', 'is_new', 'is_instant',\n",
              "       'is_plus', 'geo.lat', 'geo.lng', 'province.name', 'city.name',\n",
              "       'ratings.count', 'ratings.total', 'ratings.cleanliness',\n",
              "       'ratings.location', 'ratings.checkin', 'ratings.value', 'has_barbecue',\n",
              "       'guest_category', 'floor_area_category', 'is_zero',\n",
              "       'average_area_per_person', 'average_realarea_per_person',\n",
              "       'average_area_per_bedroom', 'beach', 'desert', 'forest', 'mountain',\n",
              "       'rural', 'suburb', 'urban', 'party', 'pet', 'smoke', 'unmarried',\n",
              "       'apartment', 'apartmenthotel', 'boutiquehotel', 'caravansera',\n",
              "       'cottage', 'ecolog', 'hostel', 'motel', 'ruralhome', 'suite',\n",
              "       'swiss_cottage', 'villa', 'wooden_cottage', 'bedroom_density',\n",
              "       'guest_capacity_ratio', 'guest_capacity_diff', 'composite_rating',\n",
              "       'average_rating', 'average_ratings', 'is_clean_count',\n",
              "       'landscape_diversity', 'property_type_count', 'neighborhood'],\n",
              "      dtype='object')"
            ]
          },
          "metadata": {},
          "execution_count": 572
        }
      ]
    },
    {
      "cell_type": "code",
      "source": [
        "from sklearn.preprocessing import PowerTransformer\n",
        "y = train_data_cleaned['min_price']\n",
        "X = train_data_cleaned.drop(columns =['min_price'])"
      ],
      "metadata": {
        "id": "kQZZaPtN7QBw"
      },
      "execution_count": 619,
      "outputs": []
    },
    {
      "cell_type": "code",
      "source": [
        "X_train, X_test, y_train, y_test = train_test_split(X, y, test_size=0.2, random_state=42)"
      ],
      "metadata": {
        "id": "ewIEmC0hjPGW"
      },
      "execution_count": 620,
      "outputs": []
    },
    {
      "cell_type": "code",
      "source": [
        "X.shape"
      ],
      "metadata": {
        "colab": {
          "base_uri": "https://localhost:8080/"
        },
        "outputId": "3dacd78e-7f25-40b8-cf33-8d111ae97170",
        "id": "eWy7dNYA7QBw"
      },
      "execution_count": 621,
      "outputs": [
        {
          "output_type": "execute_result",
          "data": {
            "text/plain": [
              "(4774, 60)"
            ]
          },
          "metadata": {},
          "execution_count": 621
        }
      ]
    },
    {
      "cell_type": "code",
      "source": [
        "lgb_model = lgb.LGBMRegressor(random_state=42)\n",
        "xgb_model = xgb.XGBRegressor(random_state=42)\n",
        "catboost_model = CatBoostRegressor(random_state=42, verbose=0)"
      ],
      "metadata": {
        "id": "PmFTxVOT7QBx"
      },
      "execution_count": 625,
      "outputs": []
    },
    {
      "cell_type": "code",
      "source": [
        "lgb_model.fit(X_train, y_train)\n",
        "xgb_model.fit(X_train, y_train)\n",
        "catboost_model.fit(X_train, y_train)"
      ],
      "metadata": {
        "colab": {
          "base_uri": "https://localhost:8080/"
        },
        "id": "nMOxaP9hkSu7",
        "outputId": "3f19af97-2a36-45b8-8b75-d7d81e292011"
      },
      "execution_count": 626,
      "outputs": [
        {
          "output_type": "stream",
          "name": "stdout",
          "text": [
            "[LightGBM] [Info] Auto-choosing row-wise multi-threading, the overhead of testing was 0.001449 seconds.\n",
            "You can set `force_row_wise=true` to remove the overhead.\n",
            "And if memory is not enough, you can set `force_col_wise=true`.\n",
            "[LightGBM] [Info] Total Bins 2023\n",
            "[LightGBM] [Info] Number of data points in the train set: 3819, number of used features: 58\n",
            "[LightGBM] [Info] Start training from score 2143234.208693\n"
          ]
        },
        {
          "output_type": "execute_result",
          "data": {
            "text/plain": [
              "<catboost.core.CatBoostRegressor at 0x7b6227d51210>"
            ]
          },
          "metadata": {},
          "execution_count": 626
        }
      ]
    },
    {
      "cell_type": "code",
      "source": [
        "y_pred = catboost_model.predict(X_test)\n",
        "\n",
        "r2score = r2_score(y_test, y_pred)\n",
        "\n",
        "print(f'R2 Score: {r2score}')"
      ],
      "metadata": {
        "colab": {
          "base_uri": "https://localhost:8080/"
        },
        "id": "KS2-PNd9jVcu",
        "outputId": "3bdfdea2-61be-4517-941c-77ddbdd22f1d"
      },
      "execution_count": 630,
      "outputs": [
        {
          "output_type": "stream",
          "name": "stdout",
          "text": [
            "R2 Score: 0.5875123796441086\n"
          ]
        }
      ]
    },
    {
      "cell_type": "code",
      "source": [
        "# Set up cross-validation\n",
        "kf = KFold(n_splits=5, shuffle=True, random_state=42)\n",
        "\n",
        "# R² scorer\n",
        "r2_scorer = make_scorer(r2_score)\n",
        "\n",
        "# Cross-validation scores\n",
        "scores = cross_val_score(catboost_model, X, y, cv=kf, scoring=r2_scorer)\n",
        "\n",
        "# Report results\n",
        "print(f'R² scores for each fold: {scores}')\n",
        "print(f'Mean R² score: {scores.mean():.3f}')\n",
        "print(f'Standard deviation: {scores.std():.3f}')"
      ],
      "metadata": {
        "colab": {
          "base_uri": "https://localhost:8080/"
        },
        "id": "O3cVvv6IaHty",
        "outputId": "08f2a753-a97c-4d15-f20b-b886a051193c"
      },
      "execution_count": 594,
      "outputs": [
        {
          "output_type": "stream",
          "name": "stdout",
          "text": [
            "R² scores for each fold: [0.59461485 0.55088528 0.53653795 0.57226828 0.58033097]\n",
            "Mean R² score: 0.567\n",
            "Standard deviation: 0.021\n"
          ]
        }
      ]
    },
    {
      "cell_type": "markdown",
      "source": [
        "<h2 align=right style=\"line-height:200%;font-family:vazir;color:#0099cc\">\n",
        "<font face=\"vazir\" color=\"#0099cc\">\n",
        " پیش‌بینی بر روی داده‌ی آزمون و خروجی\n",
        "</font>\n",
        "</h2>\n",
        "\n",
        "<p dir=rtl style=\"direction: rtl;text-align: justify;line-height:200%;font-family:vazir;font-size:medium\">\n",
        "<font face=\"vazir\" size=3>\n",
        "    پیش‌بینی مدل خود بر روی داده‌های آزمون را در یک دیتافریم (<code>dataframe</code>) به فرمت زیر ذخیره کنید.\n",
        "</font>\n",
        "</p>\n",
        "\n",
        "\n",
        "<p dir=rtl style=\"direction: rtl;text-align: justify;line-height:200%;font-family:vazir;font-size:medium\">\n",
        "<font face=\"vazir\" size=3>\n",
        "    توجه داشته باشید که نام دیتافریم باید <code>submission</code> باشد؛ در غیر این‌صورت، سامانه‌ی داوری قادر به ارزیابی خروجی شما نخواهد بود.\n",
        "    این دیتافریم تنها شامل ۱ ستون با اسم <code>min_price</code> است.\n",
        "    <br>\n",
        "    به ازای هر سطر موجود در دیتافریم <code>test</code>، باید یک مقدار پیش‌بینی‌شده داشته باشید.\n",
        "    به‌عنوان مثال جدول زیر، ۵ سطر ابتدایی دیتافریم <code>submission</code> را نشان می‌دهد. البته در جواب شما، اعداد ستون <code>min_price</code> ممکن است متفاوت باشد.\n",
        "</font>\n",
        "</p>\n",
        "\n",
        "<center>\n",
        "<div style=\"direction: ltr;line-height:200%;font-family:vazir;font-size:medium\">\n",
        "<font face=\"vazir\" size=3>\n",
        "    \n",
        "||<code>min_price</code>|\n",
        "|:----:|:-----:|\n",
        "|0|700000|\n",
        "|1|650000|\n",
        "|2|5000000|\n",
        "|3|800000|\n",
        "|4|750000|\n",
        "\n",
        "</font>\n",
        "</div>\n",
        "</center>"
      ],
      "metadata": {
        "id": "0xOmW-aI7QBy"
      }
    },
    {
      "cell_type": "code",
      "source": [
        "pt = PowerTransformer(method='box-cox')\n",
        "y = pt.fit_transform(train_data_cleaned[['min_price']])\n",
        "X = train_data_cleaned.drop(columns =['min_price'])\n",
        "#y = train_data_cleaned['min_price']\n",
        "#X = train_data_cleaned.drop(columns =['min_price'])"
      ],
      "metadata": {
        "id": "JtUwodQG7QBy"
      },
      "execution_count": 446,
      "outputs": []
    },
    {
      "cell_type": "code",
      "source": [
        "catboost_model = catboost_model = CatBoostRegressor(verbose=0,random_state=42)\n",
        "catboost_model.fit(X, y)"
      ],
      "metadata": {
        "colab": {
          "base_uri": "https://localhost:8080/"
        },
        "outputId": "648fdbf1-356c-4df8-9687-fe106b3733a9",
        "id": "6nCISmi_7QBy"
      },
      "execution_count": 447,
      "outputs": [
        {
          "output_type": "execute_result",
          "data": {
            "text/plain": [
              "<catboost.core.CatBoostRegressor at 0x7b6225dc2910>"
            ]
          },
          "metadata": {},
          "execution_count": 447
        }
      ]
    },
    {
      "cell_type": "code",
      "source": [
        "test_data['is_zero'] = (test_data['ratings.value'] == 0).astype(int)\n",
        "\n",
        "test_data['floor_area_category'] = test_data['floor_area'].apply(categorize_floor_area)\n",
        "\n",
        "test_data['guest_category'] = test_data['guest_number'].apply(categorize_guests)"
      ],
      "metadata": {
        "id": "bBi_YfZ9mjHD"
      },
      "execution_count": 448,
      "outputs": []
    },
    {
      "cell_type": "code",
      "source": [
        "test_data['average_area_per_person'] = test_data['floor_area'] / test_data['max_guest_number']\n",
        "\n",
        "test_data['average_realarea_per_person'] = test_data['floor_area'] / test_data['guest_number']\n",
        "\n",
        "test_data['average_area_per_bedroom'] = test_data['floor_area'] / test_data['bedrooms']"
      ],
      "metadata": {
        "id": "iGpIxCnimjHD"
      },
      "execution_count": 449,
      "outputs": []
    },
    {
      "cell_type": "code",
      "source": [
        "test_data[\"regions\"] = test_data['regions'].apply(ast.literal_eval)\n",
        "region_dummies = test_data['regions'].explode().str.get_dummies().groupby(level=0).max()\n",
        "test_data = pd.concat([test_data.drop(columns='regions'), region_dummies], axis=1)"
      ],
      "metadata": {
        "id": "Ba1OSn-Q7QBy"
      },
      "execution_count": 450,
      "outputs": []
    },
    {
      "cell_type": "code",
      "source": [
        "test_data[\"rules\"] = test_data['rules'].apply(ast.literal_eval)\n",
        "rules_dummies = test_data['rules'].explode().str.get_dummies().groupby(level=0).max()\n",
        "test_data = pd.concat([test_data.drop(columns='rules'), rules_dummies], axis=1)"
      ],
      "metadata": {
        "id": "2MgCK8o-7QBz"
      },
      "execution_count": 451,
      "outputs": []
    },
    {
      "cell_type": "code",
      "source": [
        "test_data[\"types\"] = test_data['types'].apply(ast.literal_eval)\n",
        "types_dummies = test_data['types'].explode().str.get_dummies().groupby(level=0).max()\n",
        "test_data = pd.concat([test_data.drop(columns='types'), types_dummies], axis=1)"
      ],
      "metadata": {
        "id": "93nwLA_n7QBz"
      },
      "execution_count": 452,
      "outputs": []
    },
    {
      "cell_type": "code",
      "source": [
        "ordinal_columns = [\"city.name\", \"province.name\", \"allocation\", \"is_clean\", \"is_new\", \"is_instant\", \"is_plus\", \"floor_area_category\", \"guest_category\"]\n",
        "for column in ordinal_columns:\n",
        "  test_data[column] = test_data[column].astype('category')\n",
        "  ord_enc = OrdinalEncoder()\n",
        "  test_data[column] = ord_enc.fit_transform(test_data[[column]])"
      ],
      "metadata": {
        "id": "2B88CA7d7QBz"
      },
      "execution_count": 453,
      "outputs": []
    },
    {
      "cell_type": "code",
      "source": [
        "test_data['bedroom_density'] = test_data['bedrooms'] / test_data['floor_area']\n",
        "test_data['guest_capacity_ratio'] = test_data['guest_number'] / test_data['max_guest_number']\n",
        "test_data['guest_capacity_diff'] = test_data['max_guest_number'] - test_data['guest_number']\n",
        "test_data['composite_rating'] = test_data[['ratings.cleanliness', 'ratings.location', 'ratings.checkin', 'ratings.value']].mean(axis=1)\n",
        "test_data['average_rating'] = test_data.apply(lambda row: row['ratings.total'] / row['ratings.count'] if row['ratings.count'] > 0 else 0, axis=1)"
      ],
      "metadata": {
        "id": "-OAoM6h_XWNO"
      },
      "execution_count": 454,
      "outputs": []
    },
    {
      "cell_type": "code",
      "source": [
        "rating_cols = ['ratings.cleanliness', 'ratings.location', 'ratings.checkin', 'ratings.value']\n",
        "test_data['average_ratings'] = test_data[rating_cols].mean(axis=1)\n",
        "#train_data_cleaned.drop(columns=rating_cols, inplace=True)"
      ],
      "metadata": {
        "id": "krRQQOBwXWNP"
      },
      "execution_count": 455,
      "outputs": []
    },
    {
      "cell_type": "code",
      "source": [
        "is_clean_cols = ['is_clean', 'is_new', 'is_instant', 'is_plus']\n",
        "test_data['is_clean_count'] = test_data[is_clean_cols].sum(axis=1)"
      ],
      "metadata": {
        "id": "4h8FR8uQXWNP"
      },
      "execution_count": 456,
      "outputs": []
    },
    {
      "cell_type": "code",
      "source": [
        "landscape_cols = ['beach', 'desert', 'forest', 'mountain', 'rural', 'suburb', 'urban']\n",
        "test_data['landscape_diversity'] = test_data[landscape_cols].sum(axis=1)\n",
        "#train_data_cleaned.drop(columns=landscape_cols, inplace=True)"
      ],
      "metadata": {
        "id": "cadJx7TPXWNQ"
      },
      "execution_count": 457,
      "outputs": []
    },
    {
      "cell_type": "code",
      "source": [
        "property_type_cols = ['apartment', 'apartmenthotel', 'boutiquehotel', 'caravansera', 'cottage', 'ecolog', 'hostel', 'motel', 'ruralhome', 'suite', 'swiss_cottage', 'villa', 'wooden_cottage']\n",
        "test_data['property_type_count'] = test_data[property_type_cols].sum(axis=1)\n",
        "#train_data_cleaned.drop(columns=property_type_cols, inplace=True)"
      ],
      "metadata": {
        "id": "709D7rQ1XWNQ"
      },
      "execution_count": 458,
      "outputs": []
    },
    {
      "cell_type": "code",
      "source": [
        "from sklearn.cluster import KMeans\n",
        "kmeans = KMeans(n_clusters=5, random_state=42)\n",
        "test_data['neighborhood'] = kmeans.fit_predict(test_data[['geo.lat', 'geo.lng']])"
      ],
      "metadata": {
        "id": "YRD1ccfeXWNQ"
      },
      "execution_count": 459,
      "outputs": []
    },
    {
      "cell_type": "code",
      "source": [
        "test_data['has_barbecue'] = test_data['features'].str.contains(\"barbecue\", case=False).astype(int)"
      ],
      "metadata": {
        "id": "8AiCtOOSYlKN"
      },
      "execution_count": 460,
      "outputs": []
    },
    {
      "cell_type": "code",
      "source": [
        "test_data.drop(['success_books','land_area',\"floors_count\" ,\"units_count\",\"leaving_time\",\"entrance_time_max\",\"entrance_time_min\" ,\"stays_min\",\"title\",\"status\",\"features\",\"province.id\",\"province.url\",\"city.id\", \"sleep_arrange\",\"floors_count\",\"Unnamed: 0\", \"id\", \"description\", \"sleep_description\", \"stays_max\", \"additional_feature\", \"additional_safety\", \"additional_rule\", \"city.url\"], axis=1, inplace=True)"
      ],
      "metadata": {
        "id": "MWV4PF1b3Hv5"
      },
      "execution_count": 461,
      "outputs": []
    },
    {
      "cell_type": "code",
      "source": [
        "test_data.shape"
      ],
      "metadata": {
        "colab": {
          "base_uri": "https://localhost:8080/"
        },
        "outputId": "4d4392cd-66c8-4e2b-d131-a096a26ca881",
        "id": "F-QacddE7QBz"
      },
      "execution_count": 462,
      "outputs": [
        {
          "output_type": "execute_result",
          "data": {
            "text/plain": [
              "(1194, 60)"
            ]
          },
          "metadata": {},
          "execution_count": 462
        }
      ]
    },
    {
      "cell_type": "code",
      "source": [
        "predicted_min_prices = catboost_model.predict(test_data)\n",
        "predicted_min_prices = pt.inverse_transform(predicted_min_prices.reshape(-1, 1))\n",
        "predicted_min_prices"
      ],
      "metadata": {
        "colab": {
          "base_uri": "https://localhost:8080/"
        },
        "outputId": "96ef8f22-dd67-4381-e17d-079973bcb616",
        "id": "BzDbg0yV7QBz"
      },
      "execution_count": 463,
      "outputs": [
        {
          "output_type": "stream",
          "name": "stderr",
          "text": [
            "/usr/local/lib/python3.11/dist-packages/sklearn/utils/validation.py:2739: UserWarning: X does not have valid feature names, but PowerTransformer was fitted with feature names\n",
            "  warnings.warn(\n"
          ]
        },
        {
          "output_type": "execute_result",
          "data": {
            "text/plain": [
              "array([[1458436.50514761],\n",
              "       [1353923.8689006 ],\n",
              "       [1004731.33793267],\n",
              "       ...,\n",
              "       [1357497.56440229],\n",
              "       [4251725.31833579],\n",
              "       [1002182.46180202]])"
            ]
          },
          "metadata": {},
          "execution_count": 463
        }
      ]
    },
    {
      "cell_type": "code",
      "source": [
        "predicted_min_prices = predicted_min_prices.ravel()\n",
        "\n",
        "predicted_min_prices"
      ],
      "metadata": {
        "colab": {
          "base_uri": "https://localhost:8080/"
        },
        "id": "3GYT2IzkZFEe",
        "outputId": "bb92509a-7c5e-4c97-f7d9-0c9602242d43"
      },
      "execution_count": 474,
      "outputs": [
        {
          "output_type": "execute_result",
          "data": {
            "text/plain": [
              "array([1458436.50514761, 1353923.8689006 , 1004731.33793267, ...,\n",
              "       1357497.56440229, 4251725.31833579, 1002182.46180202])"
            ]
          },
          "metadata": {},
          "execution_count": 474
        }
      ]
    },
    {
      "cell_type": "code",
      "source": [
        "# To-Do\n",
        "submission = pd.DataFrame({\n",
        "    'min_price': predicted_min_prices\n",
        "})\n",
        "\n",
        "submission.head()"
      ],
      "metadata": {
        "id": "pxzznn6w7QB0",
        "colab": {
          "base_uri": "https://localhost:8080/",
          "height": 206
        },
        "outputId": "fb29b81b-9d45-4827-b03c-22c9a085b301"
      },
      "execution_count": 475,
      "outputs": [
        {
          "output_type": "execute_result",
          "data": {
            "text/plain": [
              "      min_price\n",
              "0  1.458437e+06\n",
              "1  1.353924e+06\n",
              "2  1.004731e+06\n",
              "3  1.155288e+06\n",
              "4  9.583799e+05"
            ],
            "text/html": [
              "\n",
              "  <div id=\"df-e63b9975-1be9-44d4-8b0f-c1cbe33b6292\" class=\"colab-df-container\">\n",
              "    <div>\n",
              "<style scoped>\n",
              "    .dataframe tbody tr th:only-of-type {\n",
              "        vertical-align: middle;\n",
              "    }\n",
              "\n",
              "    .dataframe tbody tr th {\n",
              "        vertical-align: top;\n",
              "    }\n",
              "\n",
              "    .dataframe thead th {\n",
              "        text-align: right;\n",
              "    }\n",
              "</style>\n",
              "<table border=\"1\" class=\"dataframe\">\n",
              "  <thead>\n",
              "    <tr style=\"text-align: right;\">\n",
              "      <th></th>\n",
              "      <th>min_price</th>\n",
              "    </tr>\n",
              "  </thead>\n",
              "  <tbody>\n",
              "    <tr>\n",
              "      <th>0</th>\n",
              "      <td>1.458437e+06</td>\n",
              "    </tr>\n",
              "    <tr>\n",
              "      <th>1</th>\n",
              "      <td>1.353924e+06</td>\n",
              "    </tr>\n",
              "    <tr>\n",
              "      <th>2</th>\n",
              "      <td>1.004731e+06</td>\n",
              "    </tr>\n",
              "    <tr>\n",
              "      <th>3</th>\n",
              "      <td>1.155288e+06</td>\n",
              "    </tr>\n",
              "    <tr>\n",
              "      <th>4</th>\n",
              "      <td>9.583799e+05</td>\n",
              "    </tr>\n",
              "  </tbody>\n",
              "</table>\n",
              "</div>\n",
              "    <div class=\"colab-df-buttons\">\n",
              "\n",
              "  <div class=\"colab-df-container\">\n",
              "    <button class=\"colab-df-convert\" onclick=\"convertToInteractive('df-e63b9975-1be9-44d4-8b0f-c1cbe33b6292')\"\n",
              "            title=\"Convert this dataframe to an interactive table.\"\n",
              "            style=\"display:none;\">\n",
              "\n",
              "  <svg xmlns=\"http://www.w3.org/2000/svg\" height=\"24px\" viewBox=\"0 -960 960 960\">\n",
              "    <path d=\"M120-120v-720h720v720H120Zm60-500h600v-160H180v160Zm220 220h160v-160H400v160Zm0 220h160v-160H400v160ZM180-400h160v-160H180v160Zm440 0h160v-160H620v160ZM180-180h160v-160H180v160Zm440 0h160v-160H620v160Z\"/>\n",
              "  </svg>\n",
              "    </button>\n",
              "\n",
              "  <style>\n",
              "    .colab-df-container {\n",
              "      display:flex;\n",
              "      gap: 12px;\n",
              "    }\n",
              "\n",
              "    .colab-df-convert {\n",
              "      background-color: #E8F0FE;\n",
              "      border: none;\n",
              "      border-radius: 50%;\n",
              "      cursor: pointer;\n",
              "      display: none;\n",
              "      fill: #1967D2;\n",
              "      height: 32px;\n",
              "      padding: 0 0 0 0;\n",
              "      width: 32px;\n",
              "    }\n",
              "\n",
              "    .colab-df-convert:hover {\n",
              "      background-color: #E2EBFA;\n",
              "      box-shadow: 0px 1px 2px rgba(60, 64, 67, 0.3), 0px 1px 3px 1px rgba(60, 64, 67, 0.15);\n",
              "      fill: #174EA6;\n",
              "    }\n",
              "\n",
              "    .colab-df-buttons div {\n",
              "      margin-bottom: 4px;\n",
              "    }\n",
              "\n",
              "    [theme=dark] .colab-df-convert {\n",
              "      background-color: #3B4455;\n",
              "      fill: #D2E3FC;\n",
              "    }\n",
              "\n",
              "    [theme=dark] .colab-df-convert:hover {\n",
              "      background-color: #434B5C;\n",
              "      box-shadow: 0px 1px 3px 1px rgba(0, 0, 0, 0.15);\n",
              "      filter: drop-shadow(0px 1px 2px rgba(0, 0, 0, 0.3));\n",
              "      fill: #FFFFFF;\n",
              "    }\n",
              "  </style>\n",
              "\n",
              "    <script>\n",
              "      const buttonEl =\n",
              "        document.querySelector('#df-e63b9975-1be9-44d4-8b0f-c1cbe33b6292 button.colab-df-convert');\n",
              "      buttonEl.style.display =\n",
              "        google.colab.kernel.accessAllowed ? 'block' : 'none';\n",
              "\n",
              "      async function convertToInteractive(key) {\n",
              "        const element = document.querySelector('#df-e63b9975-1be9-44d4-8b0f-c1cbe33b6292');\n",
              "        const dataTable =\n",
              "          await google.colab.kernel.invokeFunction('convertToInteractive',\n",
              "                                                    [key], {});\n",
              "        if (!dataTable) return;\n",
              "\n",
              "        const docLinkHtml = 'Like what you see? Visit the ' +\n",
              "          '<a target=\"_blank\" href=https://colab.research.google.com/notebooks/data_table.ipynb>data table notebook</a>'\n",
              "          + ' to learn more about interactive tables.';\n",
              "        element.innerHTML = '';\n",
              "        dataTable['output_type'] = 'display_data';\n",
              "        await google.colab.output.renderOutput(dataTable, element);\n",
              "        const docLink = document.createElement('div');\n",
              "        docLink.innerHTML = docLinkHtml;\n",
              "        element.appendChild(docLink);\n",
              "      }\n",
              "    </script>\n",
              "  </div>\n",
              "\n",
              "\n",
              "<div id=\"df-85bd88fe-9a0a-48d3-9a7c-0262a862588d\">\n",
              "  <button class=\"colab-df-quickchart\" onclick=\"quickchart('df-85bd88fe-9a0a-48d3-9a7c-0262a862588d')\"\n",
              "            title=\"Suggest charts\"\n",
              "            style=\"display:none;\">\n",
              "\n",
              "<svg xmlns=\"http://www.w3.org/2000/svg\" height=\"24px\"viewBox=\"0 0 24 24\"\n",
              "     width=\"24px\">\n",
              "    <g>\n",
              "        <path d=\"M19 3H5c-1.1 0-2 .9-2 2v14c0 1.1.9 2 2 2h14c1.1 0 2-.9 2-2V5c0-1.1-.9-2-2-2zM9 17H7v-7h2v7zm4 0h-2V7h2v10zm4 0h-2v-4h2v4z\"/>\n",
              "    </g>\n",
              "</svg>\n",
              "  </button>\n",
              "\n",
              "<style>\n",
              "  .colab-df-quickchart {\n",
              "      --bg-color: #E8F0FE;\n",
              "      --fill-color: #1967D2;\n",
              "      --hover-bg-color: #E2EBFA;\n",
              "      --hover-fill-color: #174EA6;\n",
              "      --disabled-fill-color: #AAA;\n",
              "      --disabled-bg-color: #DDD;\n",
              "  }\n",
              "\n",
              "  [theme=dark] .colab-df-quickchart {\n",
              "      --bg-color: #3B4455;\n",
              "      --fill-color: #D2E3FC;\n",
              "      --hover-bg-color: #434B5C;\n",
              "      --hover-fill-color: #FFFFFF;\n",
              "      --disabled-bg-color: #3B4455;\n",
              "      --disabled-fill-color: #666;\n",
              "  }\n",
              "\n",
              "  .colab-df-quickchart {\n",
              "    background-color: var(--bg-color);\n",
              "    border: none;\n",
              "    border-radius: 50%;\n",
              "    cursor: pointer;\n",
              "    display: none;\n",
              "    fill: var(--fill-color);\n",
              "    height: 32px;\n",
              "    padding: 0;\n",
              "    width: 32px;\n",
              "  }\n",
              "\n",
              "  .colab-df-quickchart:hover {\n",
              "    background-color: var(--hover-bg-color);\n",
              "    box-shadow: 0 1px 2px rgba(60, 64, 67, 0.3), 0 1px 3px 1px rgba(60, 64, 67, 0.15);\n",
              "    fill: var(--button-hover-fill-color);\n",
              "  }\n",
              "\n",
              "  .colab-df-quickchart-complete:disabled,\n",
              "  .colab-df-quickchart-complete:disabled:hover {\n",
              "    background-color: var(--disabled-bg-color);\n",
              "    fill: var(--disabled-fill-color);\n",
              "    box-shadow: none;\n",
              "  }\n",
              "\n",
              "  .colab-df-spinner {\n",
              "    border: 2px solid var(--fill-color);\n",
              "    border-color: transparent;\n",
              "    border-bottom-color: var(--fill-color);\n",
              "    animation:\n",
              "      spin 1s steps(1) infinite;\n",
              "  }\n",
              "\n",
              "  @keyframes spin {\n",
              "    0% {\n",
              "      border-color: transparent;\n",
              "      border-bottom-color: var(--fill-color);\n",
              "      border-left-color: var(--fill-color);\n",
              "    }\n",
              "    20% {\n",
              "      border-color: transparent;\n",
              "      border-left-color: var(--fill-color);\n",
              "      border-top-color: var(--fill-color);\n",
              "    }\n",
              "    30% {\n",
              "      border-color: transparent;\n",
              "      border-left-color: var(--fill-color);\n",
              "      border-top-color: var(--fill-color);\n",
              "      border-right-color: var(--fill-color);\n",
              "    }\n",
              "    40% {\n",
              "      border-color: transparent;\n",
              "      border-right-color: var(--fill-color);\n",
              "      border-top-color: var(--fill-color);\n",
              "    }\n",
              "    60% {\n",
              "      border-color: transparent;\n",
              "      border-right-color: var(--fill-color);\n",
              "    }\n",
              "    80% {\n",
              "      border-color: transparent;\n",
              "      border-right-color: var(--fill-color);\n",
              "      border-bottom-color: var(--fill-color);\n",
              "    }\n",
              "    90% {\n",
              "      border-color: transparent;\n",
              "      border-bottom-color: var(--fill-color);\n",
              "    }\n",
              "  }\n",
              "</style>\n",
              "\n",
              "  <script>\n",
              "    async function quickchart(key) {\n",
              "      const quickchartButtonEl =\n",
              "        document.querySelector('#' + key + ' button');\n",
              "      quickchartButtonEl.disabled = true;  // To prevent multiple clicks.\n",
              "      quickchartButtonEl.classList.add('colab-df-spinner');\n",
              "      try {\n",
              "        const charts = await google.colab.kernel.invokeFunction(\n",
              "            'suggestCharts', [key], {});\n",
              "      } catch (error) {\n",
              "        console.error('Error during call to suggestCharts:', error);\n",
              "      }\n",
              "      quickchartButtonEl.classList.remove('colab-df-spinner');\n",
              "      quickchartButtonEl.classList.add('colab-df-quickchart-complete');\n",
              "    }\n",
              "    (() => {\n",
              "      let quickchartButtonEl =\n",
              "        document.querySelector('#df-85bd88fe-9a0a-48d3-9a7c-0262a862588d button');\n",
              "      quickchartButtonEl.style.display =\n",
              "        google.colab.kernel.accessAllowed ? 'block' : 'none';\n",
              "    })();\n",
              "  </script>\n",
              "</div>\n",
              "\n",
              "    </div>\n",
              "  </div>\n"
            ],
            "application/vnd.google.colaboratory.intrinsic+json": {
              "type": "dataframe",
              "variable_name": "submission",
              "summary": "{\n  \"name\": \"submission\",\n  \"rows\": 1194,\n  \"fields\": [\n    {\n      \"column\": \"min_price\",\n      \"properties\": {\n        \"dtype\": \"number\",\n        \"std\": 1080819.7205850086,\n        \"min\": 272418.55338063336,\n        \"max\": 9847890.763133366,\n        \"num_unique_values\": 1190,\n        \"samples\": [\n          1465328.7187086768,\n          3827654.053387008,\n          1312842.2233303813\n        ],\n        \"semantic_type\": \"\",\n        \"description\": \"\"\n      }\n    }\n  ]\n}"
            }
          },
          "metadata": {},
          "execution_count": 475
        }
      ]
    },
    {
      "cell_type": "markdown",
      "source": [
        "<h2 align=right style=\"line-height:200%;font-family:vazir;color:#0099cc\">\n",
        "<font face=\"vazir\" color=\"#0099cc\">\n",
        "<b>سلول جواب‌ساز</b>\n",
        "</font>\n",
        "</h2>\n",
        "\n",
        "<p dir=rtl style=\"direction: rtl; text-align: justify; line-height:200%; font-family:vazir; font-size:medium\">\n",
        "<font face=\"vazir\" size=3>\n",
        "    برای ساخته‌شدن فایل <code>result.zip</code> سلول زیر را اجرا کنید. توجه داشته باشید که پیش از اجرای سلول زیر تغییرات اعمال شده در نت‌بوک را ذخیره کرده باشید (<code>ctrl+s</code>) تا در صورت نیاز به پشتیبانی امکان بررسی کد شما وجود داشته باشد.\n",
        "</font>\n",
        "</p>"
      ],
      "metadata": {
        "id": "UiPhHnyD7QB0"
      }
    },
    {
      "cell_type": "code",
      "source": [
        "import zipfile\n",
        "\n",
        "def compress(file_names):\n",
        "    print(\"File Paths:\")\n",
        "    print(file_names)\n",
        "    compression = zipfile.ZIP_DEFLATED\n",
        "    with zipfile.ZipFile(\"result.zip\", mode=\"w\") as zf:\n",
        "        for file_name in file_names:\n",
        "            zf.write(file_name, file_name, compress_type=compression)\n",
        "\n",
        "submission.to_csv('submission.csv', index=False)\n",
        "file_names = ['submission.csv', 'Jajiga.ipynb']\n",
        "compress(file_names)"
      ],
      "metadata": {
        "id": "EGqaPrBz7QB0",
        "colab": {
          "base_uri": "https://localhost:8080/",
          "height": 356
        },
        "outputId": "9d6f6f1a-0ede-4ebb-9661-78f9649fd0cd"
      },
      "execution_count": 476,
      "outputs": [
        {
          "output_type": "stream",
          "name": "stdout",
          "text": [
            "File Paths:\n",
            "['submission.csv', 'Jajiga.ipynb']\n"
          ]
        },
        {
          "output_type": "error",
          "ename": "FileNotFoundError",
          "evalue": "[Errno 2] No such file or directory: 'Jajiga.ipynb'",
          "traceback": [
            "\u001b[0;31m---------------------------------------------------------------------------\u001b[0m",
            "\u001b[0;31mFileNotFoundError\u001b[0m                         Traceback (most recent call last)",
            "\u001b[0;32m<ipython-input-476-d423d1950a4c>\u001b[0m in \u001b[0;36m<cell line: 0>\u001b[0;34m()\u001b[0m\n\u001b[1;32m     11\u001b[0m \u001b[0msubmission\u001b[0m\u001b[0;34m.\u001b[0m\u001b[0mto_csv\u001b[0m\u001b[0;34m(\u001b[0m\u001b[0;34m'submission.csv'\u001b[0m\u001b[0;34m,\u001b[0m \u001b[0mindex\u001b[0m\u001b[0;34m=\u001b[0m\u001b[0;32mFalse\u001b[0m\u001b[0;34m)\u001b[0m\u001b[0;34m\u001b[0m\u001b[0;34m\u001b[0m\u001b[0m\n\u001b[1;32m     12\u001b[0m \u001b[0mfile_names\u001b[0m \u001b[0;34m=\u001b[0m \u001b[0;34m[\u001b[0m\u001b[0;34m'submission.csv'\u001b[0m\u001b[0;34m,\u001b[0m \u001b[0;34m'Jajiga.ipynb'\u001b[0m\u001b[0;34m]\u001b[0m\u001b[0;34m\u001b[0m\u001b[0;34m\u001b[0m\u001b[0m\n\u001b[0;32m---> 13\u001b[0;31m \u001b[0mcompress\u001b[0m\u001b[0;34m(\u001b[0m\u001b[0mfile_names\u001b[0m\u001b[0;34m)\u001b[0m\u001b[0;34m\u001b[0m\u001b[0;34m\u001b[0m\u001b[0m\n\u001b[0m",
            "\u001b[0;32m<ipython-input-476-d423d1950a4c>\u001b[0m in \u001b[0;36mcompress\u001b[0;34m(file_names)\u001b[0m\n\u001b[1;32m      7\u001b[0m     \u001b[0;32mwith\u001b[0m \u001b[0mzipfile\u001b[0m\u001b[0;34m.\u001b[0m\u001b[0mZipFile\u001b[0m\u001b[0;34m(\u001b[0m\u001b[0;34m\"result.zip\"\u001b[0m\u001b[0;34m,\u001b[0m \u001b[0mmode\u001b[0m\u001b[0;34m=\u001b[0m\u001b[0;34m\"w\"\u001b[0m\u001b[0;34m)\u001b[0m \u001b[0;32mas\u001b[0m \u001b[0mzf\u001b[0m\u001b[0;34m:\u001b[0m\u001b[0;34m\u001b[0m\u001b[0;34m\u001b[0m\u001b[0m\n\u001b[1;32m      8\u001b[0m         \u001b[0;32mfor\u001b[0m \u001b[0mfile_name\u001b[0m \u001b[0;32min\u001b[0m \u001b[0mfile_names\u001b[0m\u001b[0;34m:\u001b[0m\u001b[0;34m\u001b[0m\u001b[0;34m\u001b[0m\u001b[0m\n\u001b[0;32m----> 9\u001b[0;31m             \u001b[0mzf\u001b[0m\u001b[0;34m.\u001b[0m\u001b[0mwrite\u001b[0m\u001b[0;34m(\u001b[0m\u001b[0mfile_name\u001b[0m\u001b[0;34m,\u001b[0m \u001b[0mfile_name\u001b[0m\u001b[0;34m,\u001b[0m \u001b[0mcompress_type\u001b[0m\u001b[0;34m=\u001b[0m\u001b[0mcompression\u001b[0m\u001b[0;34m)\u001b[0m\u001b[0;34m\u001b[0m\u001b[0;34m\u001b[0m\u001b[0m\n\u001b[0m\u001b[1;32m     10\u001b[0m \u001b[0;34m\u001b[0m\u001b[0m\n\u001b[1;32m     11\u001b[0m \u001b[0msubmission\u001b[0m\u001b[0;34m.\u001b[0m\u001b[0mto_csv\u001b[0m\u001b[0;34m(\u001b[0m\u001b[0;34m'submission.csv'\u001b[0m\u001b[0;34m,\u001b[0m \u001b[0mindex\u001b[0m\u001b[0;34m=\u001b[0m\u001b[0;32mFalse\u001b[0m\u001b[0;34m)\u001b[0m\u001b[0;34m\u001b[0m\u001b[0;34m\u001b[0m\u001b[0m\n",
            "\u001b[0;32m/usr/lib/python3.11/zipfile.py\u001b[0m in \u001b[0;36mwrite\u001b[0;34m(self, filename, arcname, compress_type, compresslevel)\u001b[0m\n\u001b[1;32m   1794\u001b[0m             )\n\u001b[1;32m   1795\u001b[0m \u001b[0;34m\u001b[0m\u001b[0m\n\u001b[0;32m-> 1796\u001b[0;31m         zinfo = ZipInfo.from_file(filename, arcname,\n\u001b[0m\u001b[1;32m   1797\u001b[0m                                   strict_timestamps=self._strict_timestamps)\n\u001b[1;32m   1798\u001b[0m \u001b[0;34m\u001b[0m\u001b[0m\n",
            "\u001b[0;32m/usr/lib/python3.11/zipfile.py\u001b[0m in \u001b[0;36mfrom_file\u001b[0;34m(cls, filename, arcname, strict_timestamps)\u001b[0m\n\u001b[1;32m    533\u001b[0m         \u001b[0;32mif\u001b[0m \u001b[0misinstance\u001b[0m\u001b[0;34m(\u001b[0m\u001b[0mfilename\u001b[0m\u001b[0;34m,\u001b[0m \u001b[0mos\u001b[0m\u001b[0;34m.\u001b[0m\u001b[0mPathLike\u001b[0m\u001b[0;34m)\u001b[0m\u001b[0;34m:\u001b[0m\u001b[0;34m\u001b[0m\u001b[0;34m\u001b[0m\u001b[0m\n\u001b[1;32m    534\u001b[0m             \u001b[0mfilename\u001b[0m \u001b[0;34m=\u001b[0m \u001b[0mos\u001b[0m\u001b[0;34m.\u001b[0m\u001b[0mfspath\u001b[0m\u001b[0;34m(\u001b[0m\u001b[0mfilename\u001b[0m\u001b[0;34m)\u001b[0m\u001b[0;34m\u001b[0m\u001b[0;34m\u001b[0m\u001b[0m\n\u001b[0;32m--> 535\u001b[0;31m         \u001b[0mst\u001b[0m \u001b[0;34m=\u001b[0m \u001b[0mos\u001b[0m\u001b[0;34m.\u001b[0m\u001b[0mstat\u001b[0m\u001b[0;34m(\u001b[0m\u001b[0mfilename\u001b[0m\u001b[0;34m)\u001b[0m\u001b[0;34m\u001b[0m\u001b[0;34m\u001b[0m\u001b[0m\n\u001b[0m\u001b[1;32m    536\u001b[0m         \u001b[0misdir\u001b[0m \u001b[0;34m=\u001b[0m \u001b[0mstat\u001b[0m\u001b[0;34m.\u001b[0m\u001b[0mS_ISDIR\u001b[0m\u001b[0;34m(\u001b[0m\u001b[0mst\u001b[0m\u001b[0;34m.\u001b[0m\u001b[0mst_mode\u001b[0m\u001b[0;34m)\u001b[0m\u001b[0;34m\u001b[0m\u001b[0;34m\u001b[0m\u001b[0m\n\u001b[1;32m    537\u001b[0m         \u001b[0mmtime\u001b[0m \u001b[0;34m=\u001b[0m \u001b[0mtime\u001b[0m\u001b[0;34m.\u001b[0m\u001b[0mlocaltime\u001b[0m\u001b[0;34m(\u001b[0m\u001b[0mst\u001b[0m\u001b[0;34m.\u001b[0m\u001b[0mst_mtime\u001b[0m\u001b[0;34m)\u001b[0m\u001b[0;34m\u001b[0m\u001b[0;34m\u001b[0m\u001b[0m\n",
            "\u001b[0;31mFileNotFoundError\u001b[0m: [Errno 2] No such file or directory: 'Jajiga.ipynb'"
          ]
        }
      ]
    }
  ]
}